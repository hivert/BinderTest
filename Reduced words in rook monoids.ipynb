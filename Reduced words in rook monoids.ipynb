{
 "cells": [
  {
   "cell_type": "markdown",
   "metadata": {},
   "source": [
    "## Rooks and $R$-Codes\n",
    "\n",
    "In this notebook, we check the combinatorics of $R$-code and reduced word in $0$- and $1$-rook monoids\n",
    "The primary goal is to check that Definition \\ref{defactioncode} is correct."
   ]
  },
  {
   "cell_type": "markdown",
   "metadata": {},
   "source": [
    "### Enumerating rooks"
   ]
  },
  {
   "cell_type": "code",
   "execution_count": 1,
   "metadata": {},
   "outputs": [],
   "source": [
    "@cached_function\n",
    "def rook_number(n):\n",
    "    return sum(binomial(n, r)^2 * factorial(r) for r in range(n+1))"
   ]
  },
  {
   "cell_type": "code",
   "execution_count": 2,
   "metadata": {
    "scrolled": true
   },
   "outputs": [
    {
     "data": {
      "text/plain": [
       "[1, 2, 7, 34, 209, 1546, 13327, 130922, 1441729, 17572114]"
      ]
     },
     "execution_count": 2,
     "metadata": {},
     "output_type": "execute_result"
    }
   ],
   "source": [
    "[rook_number(i) for i in range(10)]"
   ]
  },
  {
   "cell_type": "code",
   "execution_count": null,
   "metadata": {},
   "outputs": [],
   "source": []
  },
  {
   "cell_type": "code",
   "execution_count": 3,
   "metadata": {},
   "outputs": [],
   "source": [
    "def is_rook(r):\n",
    "    r = tuple(r)\n",
    "    n = len(r)\n",
    "    for i in r:\n",
    "        if not (0 <= i <= n):\n",
    "            return False\n",
    "    for i in range(1, n+1):\n",
    "        if r.count(i) > 1:\n",
    "            return False\n",
    "    return True"
   ]
  },
  {
   "cell_type": "code",
   "execution_count": 4,
   "metadata": {},
   "outputs": [
    {
     "data": {
      "text/plain": [
       "True"
      ]
     },
     "execution_count": 4,
     "metadata": {},
     "output_type": "execute_result"
    }
   ],
   "source": [
    "is_rook((0, 1, 4, 3, 2))"
   ]
  },
  {
   "cell_type": "code",
   "execution_count": 5,
   "metadata": {},
   "outputs": [
    {
     "data": {
      "text/plain": [
       "True"
      ]
     },
     "execution_count": 5,
     "metadata": {},
     "output_type": "execute_result"
    }
   ],
   "source": [
    "is_rook((0, 1, 5, 3, 2))"
   ]
  },
  {
   "cell_type": "code",
   "execution_count": 6,
   "metadata": {},
   "outputs": [
    {
     "data": {
      "text/plain": [
       "False"
      ]
     },
     "execution_count": 6,
     "metadata": {},
     "output_type": "execute_result"
    }
   ],
   "source": [
    "is_rook((0, 1, 6, 3, 2))"
   ]
  },
  {
   "cell_type": "code",
   "execution_count": 7,
   "metadata": {},
   "outputs": [
    {
     "data": {
      "text/plain": [
       "False"
      ]
     },
     "execution_count": 7,
     "metadata": {},
     "output_type": "execute_result"
    }
   ],
   "source": [
    "is_rook((0, 1, 2, 3, 2))"
   ]
  },
  {
   "cell_type": "code",
   "execution_count": 8,
   "metadata": {},
   "outputs": [
    {
     "data": {
      "text/plain": [
       "False"
      ]
     },
     "execution_count": 8,
     "metadata": {},
     "output_type": "execute_result"
    }
   ],
   "source": [
    "is_rook((0, -1, 2, 3, 0))"
   ]
  },
  {
   "cell_type": "code",
   "execution_count": 9,
   "metadata": {},
   "outputs": [],
   "source": [
    "def rooks_iter(n):\n",
    "    if n == 0: \n",
    "        yield ()\n",
    "    else: \n",
    "        for r in rooks(n-1):\n",
    "            for i in range(n):\n",
    "                yield r[:i]+(n,)+r[i:]\n",
    "            try:\n",
    "                fz = r.index(0)\n",
    "            except ValueError:\n",
    "                fz = n-1\n",
    "            for i in range(fz+1):\n",
    "                yield r[:i]+(0,)+r[i:]\n",
    "def rooks(n):\n",
    "    return list(rooks_iter(n))"
   ]
  },
  {
   "cell_type": "code",
   "execution_count": 10,
   "metadata": {},
   "outputs": [
    {
     "data": {
      "text/plain": [
       "[()]"
      ]
     },
     "execution_count": 10,
     "metadata": {},
     "output_type": "execute_result"
    }
   ],
   "source": [
    "rooks(0)"
   ]
  },
  {
   "cell_type": "code",
   "execution_count": 11,
   "metadata": {},
   "outputs": [
    {
     "data": {
      "text/plain": [
       "[(1,), (0,)]"
      ]
     },
     "execution_count": 11,
     "metadata": {},
     "output_type": "execute_result"
    }
   ],
   "source": [
    "rooks(1)"
   ]
  },
  {
   "cell_type": "code",
   "execution_count": 12,
   "metadata": {
    "scrolled": false
   },
   "outputs": [
    {
     "data": {
      "text/plain": [
       "[(2, 1), (1, 2), (0, 1), (1, 0), (2, 0), (0, 2), (0, 0)]"
      ]
     },
     "execution_count": 12,
     "metadata": {},
     "output_type": "execute_result"
    }
   ],
   "source": [
    "rooks(2)"
   ]
  },
  {
   "cell_type": "code",
   "execution_count": 13,
   "metadata": {
    "scrolled": true
   },
   "outputs": [
    {
     "data": {
      "text/plain": [
       "[(3, 2, 1),\n",
       " (2, 3, 1),\n",
       " (2, 1, 3),\n",
       " (0, 2, 1),\n",
       " (2, 0, 1),\n",
       " (2, 1, 0),\n",
       " (3, 1, 2),\n",
       " (1, 3, 2),\n",
       " (1, 2, 3),\n",
       " (0, 1, 2),\n",
       " (1, 0, 2),\n",
       " (1, 2, 0),\n",
       " (3, 0, 1),\n",
       " (0, 3, 1),\n",
       " (0, 1, 3),\n",
       " (0, 0, 1),\n",
       " (3, 1, 0),\n",
       " (1, 3, 0),\n",
       " (1, 0, 3),\n",
       " (0, 1, 0),\n",
       " (1, 0, 0),\n",
       " (3, 2, 0),\n",
       " (2, 3, 0),\n",
       " (2, 0, 3),\n",
       " (0, 2, 0),\n",
       " (2, 0, 0),\n",
       " (3, 0, 2),\n",
       " (0, 3, 2),\n",
       " (0, 2, 3),\n",
       " (0, 0, 2),\n",
       " (3, 0, 0),\n",
       " (0, 3, 0),\n",
       " (0, 0, 3),\n",
       " (0, 0, 0)]"
      ]
     },
     "execution_count": 13,
     "metadata": {},
     "output_type": "execute_result"
    }
   ],
   "source": [
    "rooks(3)"
   ]
  },
  {
   "cell_type": "markdown",
   "metadata": {},
   "source": [
    "Let's perform some consistency test"
   ]
  },
  {
   "cell_type": "code",
   "execution_count": 14,
   "metadata": {},
   "outputs": [],
   "source": [
    "for n in range(9):\n",
    "    assert(len(rooks(n)) == rook_number(n))"
   ]
  },
  {
   "cell_type": "code",
   "execution_count": null,
   "metadata": {},
   "outputs": [],
   "source": []
  },
  {
   "cell_type": "code",
   "execution_count": null,
   "metadata": {},
   "outputs": [],
   "source": []
  },
  {
   "cell_type": "code",
   "execution_count": null,
   "metadata": {},
   "outputs": [],
   "source": []
  },
  {
   "cell_type": "markdown",
   "metadata": {},
   "source": [
    "## Function $m$ of Definition \\ref{def_r_code}"
   ]
  },
  {
   "cell_type": "code",
   "execution_count": 15,
   "metadata": {},
   "outputs": [],
   "source": [
    "def mcode_ref(c):\n",
    "    if not c:\n",
    "        return 0\n",
    "    d = c[-1]\n",
    "    if d <= 0:\n",
    "        return -d\n",
    "    mw = mcode_ref(c[:-1])\n",
    "    if d <= mw + 1:\n",
    "        return mw + 1\n",
    "    else:\n",
    "        return mw"
   ]
  },
  {
   "cell_type": "code",
   "execution_count": 16,
   "metadata": {},
   "outputs": [
    {
     "data": {
      "text/plain": [
       "5"
      ]
     },
     "execution_count": 16,
     "metadata": {},
     "output_type": "execute_result"
    }
   ],
   "source": [
    "mcode_ref((1, 2, 8, 3, 6, 4, 2, 7))"
   ]
  },
  {
   "cell_type": "code",
   "execution_count": 17,
   "metadata": {},
   "outputs": [
    {
     "data": {
      "text/plain": [
       "6"
      ]
     },
     "execution_count": 17,
     "metadata": {},
     "output_type": "execute_result"
    }
   ],
   "source": [
    "mcode_ref((3, 6, 4, -4, 2, 9, 4, -3, 5, 2, 5, 3, 8))"
   ]
  },
  {
   "cell_type": "code",
   "execution_count": 18,
   "metadata": {},
   "outputs": [
    {
     "data": {
      "text/plain": [
       "3"
      ]
     },
     "execution_count": 18,
     "metadata": {},
     "output_type": "execute_result"
    }
   ],
   "source": [
    "mcode_ref((3, 6, 4, -4, 2, 9, 4, -3))"
   ]
  },
  {
   "cell_type": "code",
   "execution_count": 19,
   "metadata": {},
   "outputs": [
    {
     "data": {
      "text/plain": [
       "4"
      ]
     },
     "execution_count": 19,
     "metadata": {},
     "output_type": "execute_result"
    }
   ],
   "source": [
    "mcode_ref((0, 2, 1, -1, 1, 2, 5, 4))\n"
   ]
  },
  {
   "cell_type": "markdown",
   "metadata": {},
   "source": [
    "Here is a faster code. Warning ! it only agrees with the previous definition on rook vectors."
   ]
  },
  {
   "cell_type": "code",
   "execution_count": 20,
   "metadata": {},
   "outputs": [],
   "source": [
    "def mcode(c):\n",
    "    n = len(c) + 1\n",
    "    k = 0\n",
    "    for i in range(1, n):\n",
    "        if c[-i] <= 0:\n",
    "            k = i\n",
    "            break\n",
    "    if k == 0:\n",
    "        return n-1\n",
    "    else :\n",
    "        k1 = -c[-k]\n",
    "        k2 = 0\n",
    "        for i in range(-k+1, 0):\n",
    "            if c[i] <= k1+k2+1:\n",
    "                k2 += 1\n",
    "        return k1 + k2\n"
   ]
  },
  {
   "cell_type": "code",
   "execution_count": 21,
   "metadata": {},
   "outputs": [
    {
     "data": {
      "text/plain": [
       "4"
      ]
     },
     "execution_count": 21,
     "metadata": {},
     "output_type": "execute_result"
    }
   ],
   "source": [
    "mcode((0, 1, 1, -1, 1, 2, 5, 4))\n"
   ]
  },
  {
   "cell_type": "markdown",
   "metadata": {},
   "source": [
    "We now implement Definition \\ref{def_r_code}."
   ]
  },
  {
   "cell_type": "code",
   "execution_count": 22,
   "metadata": {},
   "outputs": [],
   "source": [
    "def is_code(c):\n",
    "    for i in range(0, len(c)):\n",
    "        if not -mcode(c[:i]) <= c[i] <= i+1:\n",
    "            return False\n",
    "    return True\n",
    "\n",
    "def code_iter(n):\n",
    "    if n == 0:\n",
    "        yield ()\n",
    "    else:\n",
    "        for c in code_iter(n-1):\n",
    "            for i in range(n, -mcode(c)-1, -1):\n",
    "                yield c + (i,)\n",
    "\n",
    "@cached_function\n",
    "def codes(n):\n",
    "    return list(code_iter(n))"
   ]
  },
  {
   "cell_type": "code",
   "execution_count": 23,
   "metadata": {},
   "outputs": [
    {
     "data": {
      "text/plain": [
       "True"
      ]
     },
     "execution_count": 23,
     "metadata": {},
     "output_type": "execute_result"
    }
   ],
   "source": [
    "is_code((0,))"
   ]
  },
  {
   "cell_type": "code",
   "execution_count": 24,
   "metadata": {},
   "outputs": [
    {
     "data": {
      "text/plain": [
       "True"
      ]
     },
     "execution_count": 24,
     "metadata": {},
     "output_type": "execute_result"
    }
   ],
   "source": [
    "is_code((1,))"
   ]
  },
  {
   "cell_type": "code",
   "execution_count": 25,
   "metadata": {},
   "outputs": [
    {
     "data": {
      "text/plain": [
       "False"
      ]
     },
     "execution_count": 25,
     "metadata": {},
     "output_type": "execute_result"
    }
   ],
   "source": [
    "is_code((2,))"
   ]
  },
  {
   "cell_type": "code",
   "execution_count": 26,
   "metadata": {},
   "outputs": [
    {
     "data": {
      "text/plain": [
       "False"
      ]
     },
     "execution_count": 26,
     "metadata": {},
     "output_type": "execute_result"
    }
   ],
   "source": [
    "is_code((-1,))"
   ]
  },
  {
   "cell_type": "code",
   "execution_count": 27,
   "metadata": {},
   "outputs": [
    {
     "data": {
      "text/plain": [
       "True"
      ]
     },
     "execution_count": 27,
     "metadata": {},
     "output_type": "execute_result"
    }
   ],
   "source": [
    "is_code((1, -1, -1))"
   ]
  },
  {
   "cell_type": "code",
   "execution_count": 28,
   "metadata": {},
   "outputs": [
    {
     "data": {
      "text/plain": [
       "False"
      ]
     },
     "execution_count": 28,
     "metadata": {},
     "output_type": "execute_result"
    }
   ],
   "source": [
    "is_code((1, -1, -2))"
   ]
  },
  {
   "cell_type": "code",
   "execution_count": 29,
   "metadata": {},
   "outputs": [
    {
     "data": {
      "text/plain": [
       "[(1,), (0,)]"
      ]
     },
     "execution_count": 29,
     "metadata": {},
     "output_type": "execute_result"
    }
   ],
   "source": [
    "codes(1)"
   ]
  },
  {
   "cell_type": "code",
   "execution_count": 30,
   "metadata": {},
   "outputs": [
    {
     "data": {
      "text/plain": [
       "[(1, 2), (1, 1), (1, 0), (1, -1), (0, 2), (0, 1), (0, 0)]"
      ]
     },
     "execution_count": 30,
     "metadata": {},
     "output_type": "execute_result"
    }
   ],
   "source": [
    "codes(2)"
   ]
  },
  {
   "cell_type": "code",
   "execution_count": 31,
   "metadata": {},
   "outputs": [
    {
     "data": {
      "text/plain": [
       "[(1, 2, 3),\n",
       " (1, 2, 2),\n",
       " (1, 2, 1),\n",
       " (1, 2, 0),\n",
       " (1, 2, -1),\n",
       " (1, 2, -2),\n",
       " (1, 1, 3),\n",
       " (1, 1, 2),\n",
       " (1, 1, 1),\n",
       " (1, 1, 0),\n",
       " (1, 1, -1),\n",
       " (1, 1, -2),\n",
       " (1, 0, 3),\n",
       " (1, 0, 2),\n",
       " (1, 0, 1),\n",
       " (1, 0, 0),\n",
       " (1, -1, 3),\n",
       " (1, -1, 2),\n",
       " (1, -1, 1),\n",
       " (1, -1, 0),\n",
       " (1, -1, -1),\n",
       " (0, 2, 3),\n",
       " (0, 2, 2),\n",
       " (0, 2, 1),\n",
       " (0, 2, 0),\n",
       " (0, 1, 3),\n",
       " (0, 1, 2),\n",
       " (0, 1, 1),\n",
       " (0, 1, 0),\n",
       " (0, 1, -1),\n",
       " (0, 0, 3),\n",
       " (0, 0, 2),\n",
       " (0, 0, 1),\n",
       " (0, 0, 0)]"
      ]
     },
     "execution_count": 31,
     "metadata": {},
     "output_type": "execute_result"
    }
   ],
   "source": [
    "codes(3)"
   ]
  },
  {
   "cell_type": "markdown",
   "metadata": {},
   "source": [
    "Let's perform some consistency test"
   ]
  },
  {
   "cell_type": "code",
   "execution_count": 32,
   "metadata": {},
   "outputs": [],
   "source": [
    "for i in range(7):\n",
    "    for c in codes(i): assert(is_code(c))"
   ]
  },
  {
   "cell_type": "code",
   "execution_count": 34,
   "metadata": {},
   "outputs": [],
   "source": [
    "for i in range(7): assert(len(codes(i)) == rook_number(i))"
   ]
  },
  {
   "cell_type": "code",
   "execution_count": null,
   "metadata": {},
   "outputs": [],
   "source": [
    "for n in range(7):\n",
    "    for c in codes(n):\n",
    "        assert(mcode_ref(c) == mcode(c))"
   ]
  },
  {
   "cell_type": "code",
   "execution_count": null,
   "metadata": {},
   "outputs": [],
   "source": []
  },
  {
   "cell_type": "markdown",
   "metadata": {},
   "source": [
    "## Encoding and decoding rooks"
   ]
  },
  {
   "cell_type": "code",
   "execution_count": null,
   "metadata": {},
   "outputs": [],
   "source": [
    "def encode(r):\n",
    "    r\"\"\"\n",
    "    Encode a rook (Definition \\ref{def_encode})\n",
    "\n",
    "    EXAMPLES::\n",
    "\n",
    "        sage: encode((2, 0, 3, 0, 4))\n",
    "        (0, 1, 2, 4, -1)\n",
    "        sage: encode((0, 2, 4, 0, 1))\n",
    "        (1, 1, -1, 2, 0)\n",
    "\n",
    "    TESTS::\n",
    "\n",
    "        sage: for n in range(7):\n",
    "        ....:     for c in codes(n):\n",
    "        ....:         assert(c == encode(decode(c)))\n",
    "    \"\"\"\n",
    "    n = len(r)\n",
    "    r = list(r)\n",
    "    res = []\n",
    "    for i in range(n, 0, -1):\n",
    "        if i in r:\n",
    "            pos = r.index(i)\n",
    "            res.append(pos+1)\n",
    "            del r[pos]\n",
    "        else:\n",
    "            pos = r.index(0)\n",
    "            res.append(-pos)\n",
    "            del r[pos]\n",
    "    return tuple(res[::-1])\n",
    "\n",
    "def decode(c):\n",
    "    r\"\"\"\n",
    "    Decode a code (Definition \\ref{def_decode})\n",
    "\n",
    "    EXAMPLE::\n",
    "\n",
    "        sage: decode((1, 1, -1, 2, 0))\n",
    "        (0, 2, 4, 0, 1)\n",
    "        sage: decode((0, 1, 2, 4, -1))\n",
    "        (2, 0, 3, 0, 4)\n",
    "    \"\"\"\n",
    "    res = []\n",
    "    for i in range(len(c)):\n",
    "        if c[i] > 0:\n",
    "            res.insert(c[i]-1, i+1)\n",
    "        elif c[i] == 0:\n",
    "            res.insert(0, 0)\n",
    "        else:\n",
    "            res.insert(-c[i], 0)\n",
    "    return tuple(res)"
   ]
  },
  {
   "cell_type": "code",
   "execution_count": null,
   "metadata": {},
   "outputs": [],
   "source": [
    "def first_zero(r):\n",
    "    r\"\"\"\n",
    "    The position of the first zero\n",
    "\n",
    "    EXAMPLES::\n",
    "\n",
    "        sage: first_zero((1,2,0,2,0))\n",
    "        2\n",
    "\n",
    "    TESTS:\n",
    "\n",
    "        sage: for n in range(7):\n",
    "        ....:     l = [first_zero(r) for r in rooks(n)]\n",
    "        ....:     for k in range(n+1):\n",
    "        ....:         assert(l.count(k) == c(n, k))\n",
    "    \"\"\"\n",
    "    if 0 in r:\n",
    "        return r.index(0)\n",
    "    else:\n",
    "        return len(r)\n",
    "\n",
    "@cached_function\n",
    "def c(n, k):\n",
    "    \"\"\"\n",
    "    Rook triangle : count the rook according to the position of the first zero\n",
    "\n",
    "    Alternative implementation using Lemma \\ref{lemma-count-fz}\n",
    "\n",
    "    EXAMPLES::\n",
    "\n",
    "        sage: [[c(n, k) for k in range(n+1)] for n in range(8)]\n",
    "        [[1],\n",
    "         [1, 1],\n",
    "         [3, 2, 2],\n",
    "         [13, 9, 6, 6],\n",
    "         [73, 52, 36, 24, 24],\n",
    "         [501, 365, 260, 180, 120, 120],\n",
    "         [4051, 3006, 2190, 1560, 1080, 720, 720],\n",
    "         [37633, 28357, 21042, 15330, 10920, 7560, 5040, 5040]]\n",
    "    \"\"\"\n",
    "    if k < 0 or k > n: return 0\n",
    "    if n == 0: return 1\n",
    "    return (c(n-1, k)*(n-k-1) + c(n-1, k-1)*k +\n",
    "            sum(c(n-1, k1) for k1 in range (k, n+1)))"
   ]
  },
  {
   "cell_type": "code",
   "execution_count": null,
   "metadata": {},
   "outputs": [],
   "source": [
    "def code2word(c):\n",
    "    r\"\"\"\n",
    "    Word associated to a code (Definition \\ref{def_word_code})\n",
    "\n",
    "    EXAMPLES::\n",
    "\n",
    "        sage: code2word((1, 1, -1, 2, 0))\n",
    "        [1, 2, 1, 0, 1, 3, 2, 4, 3, 2, 1, 0]\n",
    "    \"\"\"\n",
    "    res = []\n",
    "    for i, ci in enumerate(c):\n",
    "        if ci <= 0:\n",
    "            res.append(range(i, -1, -1)+range(1, -ci+1))\n",
    "        else:\n",
    "            res.append(range(i, ci-1, -1))\n",
    "    return flatten(res)\n",
    "\n",
    "def is_action_reduced(w):\n",
    "    r\"\"\"\n",
    "    Test for action reduced word (Corollary \\ref{action_reduced})\n",
    "\n",
    "    EXAMPLES::\n",
    "\n",
    "        sage: is_action_reduced([1, 0])\n",
    "        True\n",
    "        sage: is_action_reduced([1, 1])\n",
    "        False\n",
    "        sage: is_action_reduced([1, 0, 1])\n",
    "        True\n",
    "        sage: is_action_reduced([0, 1, 0])\n",
    "        True\n",
    "        sage: is_action_reduced([1, 0, 1, 0])\n",
    "        True\n",
    "        sage: is_action_reduced([0, 1, 0, 1])\n",
    "        False\n",
    "\n",
    "    TESTS::\n",
    "\n",
    "        sage: for n in range(7):\n",
    "        ....:     for c in codes(n):\n",
    "        ....:         assert(is_action_reduced(code2word(c)))\n",
    "    \"\"\"\n",
    "    if not w:\n",
    "        return True\n",
    "    n = max(w) + 1\n",
    "    r = tuple(range(1, n+1))\n",
    "    for i in w:\n",
    "        newr = act_rook(r, i)\n",
    "        if newr == r:\n",
    "            return False\n",
    "        r = newr\n",
    "    return True\n",
    "\n",
    "\n",
    "def act_rook(r, i):\n",
    "    r\"\"\"\n",
    "    Right action on a rook (Definition \\ref{def_Ro_fun})\n",
    "\n",
    "    EXAMPLES::\n",
    "\n",
    "        sage: act_rook((1, 2, 3), 1)\n",
    "        (2, 1, 3)\n",
    "        sage: act_rook((1, 2, 3), 2)\n",
    "        (1, 3, 2)\n",
    "        sage: act_rook((1, 2, 3), 0)\n",
    "        (0, 2, 3)\n",
    "        sage: act_rook((3, 1, 2), 0)\n",
    "        (0, 1, 2)\n",
    "        sage: act_rook((3, 1, 2), 1)\n",
    "        (3, 1, 2)\n",
    "        sage: act_rook((3, 1, 2), 2)\n",
    "        (3, 2, 1)\n",
    "    \"\"\"\n",
    "    if i == 0:\n",
    "        return (0,) + r[1:]\n",
    "    elif r[i-1] >= r[i]:\n",
    "        return r\n",
    "    else:\n",
    "        return r[:i-1]+(r[i], r[i-1])+r[i+1:]\n",
    "\n",
    "def act_rook_w(r, w):\n",
    "    r\"\"\"\n",
    "    Right action of a word on a rook (Definition \\ref{def_Ro_fun})\n",
    "\n",
    "    TESTS::\n",
    "\n",
    "        sage: for n in range(7):\n",
    "        ....:     for c in codes(n):\n",
    "        ....:         assert(act_rook_w(tuple(range(1, n+1)), code2word(c)) ==\n",
    "        ....:                decode(c))\n",
    "    \"\"\"\n",
    "    for i in w:\n",
    "        r = act_rook(r, i)\n",
    "    return r\n",
    "\n",
    "def act_code(c, t, print_rule = False):\n",
    "    r\"\"\"\n",
    "    Right action on a code (Definition \\ref{defactioncode})\n",
    "\n",
    "    EXAMPLES::\n",
    "\n",
    "        sage: act_code((1, 2, 3, 4, -2, 1, 2, 6, -4), 5)\n",
    "        (1, 2, 3, 4, -2, 1, 2, 6, -4)\n",
    "    \"\"\"\n",
    "    n = len(c)\n",
    "    if n == 1:\n",
    "        assert(t == 0)\n",
    "        return (0,)\n",
    "    cn = c[-1]\n",
    "    if cn >= 1:  # Pos\n",
    "        if t == cn:      # a\n",
    "            if print_rule: print \"Pos.a\",\n",
    "            return c\n",
    "        elif t == cn-1:  # b\n",
    "            if print_rule: print \"Pos.b\",\n",
    "            return c[:-1] + (cn-1,)\n",
    "        elif t < cn -1:  # c\n",
    "            if print_rule: print \"Pos.c\",\n",
    "            return act_code(c[:-1], t) + (cn,)\n",
    "        else:            # d\n",
    "            if print_rule: print \"Pos.d\",\n",
    "            return act_code(c[:-1], t-1) + (cn,)\n",
    "    else:        # Neg\n",
    "        i = -cn\n",
    "        if t == i:       # a\n",
    "            if print_rule: print \"Neg.a\",\n",
    "            return c\n",
    "        elif 0 < t < i:      # b\n",
    "            if print_rule: print \"Neg.b\",\n",
    "            return act_code(c[:-1], t) + (cn,)\n",
    "        elif t > i + 1:  # c\n",
    "            if print_rule: print \"Neg.c\",\n",
    "            return act_code(c[:-1], t-1) + (cn,)\n",
    "        elif t == 0:     # d\n",
    "            if print_rule: print \"Neg.d\",\n",
    "            return act_code_w(c[:-1], range(i)) + (0,)\n",
    "        else:            # e\n",
    "            if mcode(c[:-1]) == i:  # alpha\n",
    "                if print_rule: print \"Neg.e.alpha\",\n",
    "                return c\n",
    "            else:                   # beta\n",
    "                if print_rule: print \"Neg.e.beta\",\n",
    "                return c[:-1]+(-(i+1),)\n",
    "\n",
    "def act_code_w(c, w):\n",
    "    r\"\"\"\n",
    "    Right action of a word on a code (Definition \\ref{defactioncode})\n",
    "\n",
    "    TESTS::\n",
    "\n",
    "        sage: for n in range(7):\n",
    "        ....:     for c in codes(n):\n",
    "        ....:          assert(decode(c) ==\n",
    "        ....:                 act_rook_w(tuple(range(1, n+1)), code2word(c)))\n",
    "    \"\"\"\n",
    "    for i in w:\n",
    "        c = act_code(c, i)\n",
    "    return c\n",
    "\n",
    "def check_act(n, print_rule = False):\n",
    "    r\"\"\"\n",
    "    Check for Lemma \\ref{codebiendef} and Corollary \\ref{code_action_commute}\n",
    "\n",
    "    TESTS::\n",
    "\n",
    "        sage: for n in range(7): check_act(n)\n",
    "\n",
    "        sage: check_act(2, True)\n",
    "        Pos.c Code=(1, 2), i=0, w=[], r=(1, 2), r.i=(0, 2), c.i=(0, 2)\n",
    "        Pos.b Code=(1, 2), i=1, w=[], r=(1, 2), r.i=(2, 1), c.i=(1, 1)\n",
    "        Pos.b Code=(1, 1), i=0, w=[1], r=(2, 1), r.i=(0, 1), c.i=(1, 0)\n",
    "        Pos.a Code=(1, 1), i=1, w=[1], r=(2, 1), r.i=(2, 1), c.i=(1, 1)\n",
    "        Neg.a Code=(1, 0), i=0, w=[1, 0], r=(0, 1), r.i=(0, 1), c.i=(1, 0)\n",
    "        Neg.e.beta Code=(1, 0), i=1, w=[1, 0], r=(0, 1), r.i=(1, 0), c.i=(1, -1)\n",
    "        Neg.d Code=(1, -1), i=0, w=[1, 0, 1], r=(1, 0), r.i=(0, 0), c.i=(0, 0)\n",
    "        Neg.a Code=(1, -1), i=1, w=[1, 0, 1], r=(1, 0), r.i=(1, 0), c.i=(1, -1)\n",
    "        Pos.c Code=(0, 2), i=0, w=[0], r=(0, 2), r.i=(0, 2), c.i=(0, 2)\n",
    "        Pos.b Code=(0, 2), i=1, w=[0], r=(0, 2), r.i=(2, 0), c.i=(0, 1)\n",
    "        Pos.b Code=(0, 1), i=0, w=[0, 1], r=(2, 0), r.i=(0, 0), c.i=(0, 0)\n",
    "        Pos.a Code=(0, 1), i=1, w=[0, 1], r=(2, 0), r.i=(2, 0), c.i=(0, 1)\n",
    "        Neg.a Code=(0, 0), i=0, w=[0, 1, 0], r=(0, 0), r.i=(0, 0), c.i=(0, 0)\n",
    "        Neg.e.alpha Code=(0, 0), i=1, w=[0, 1, 0], r=(0, 0), r.i=(0, 0), c.i=(0, 0)\n",
    "\n",
    "    \"\"\"\n",
    "    for c in codes(n):\n",
    "        for i in range(n):\n",
    "            ac = act_code(c, i)\n",
    "            if print_rule:\n",
    "                print \"Code=%s, i=%s, w=%s, r=%s, r.i=%s, c.i=%s\"%(\n",
    "                    c, i, code2word(c), decode(c),\n",
    "                    act_rook(decode(c), i), act_code(c, i, True))\n",
    "            assert(is_code(ac))\n",
    "            assert(decode(ac) == act_rook(decode(c), i))\n",
    "\n",
    "def canonize(w):\n",
    "    r\"\"\"\n",
    "    Canonize a word\n",
    "\n",
    "    EXAMPLES::\n",
    "\n",
    "        sage: canonize([1, 0, 1, 0])\n",
    "        [0, 1, 0]\n",
    "        sage: canonize([1, 0, 1, 0, 2])\n",
    "        [0, 1, 0, 2]\n",
    "        sage: canonize([1, 0, 1, 2])\n",
    "        [1, 0, 1, 2]\n",
    "        sage: canonize([0, 1, 0, 1, 2])\n",
    "        [0, 1, 0, 2]\n",
    "    \"\"\"\n",
    "    n = max(w) + 1\n",
    "    res = act_code_w(tuple(range(1,n+1)), w)\n",
    "    return code2word(res)\n",
    "\n",
    "def canonwords(n):\n",
    "    r\"\"\"\n",
    "    List of canonical words\n",
    "\n",
    "    EXAMPLES::\n",
    "\n",
    "        sage: canonwords(0)\n",
    "        [[]]\n",
    "        sage: canonwords(1)\n",
    "        [[], [0]]\n",
    "        sage: canonwords(2)\n",
    "        [[], [1], [1, 0], [1, 0, 1], [0], [0, 1], [0, 1, 0]]\n",
    "\n",
    "    TESTS::\n",
    "\n",
    "        sage: \"|\".join(\"\".join(str(l) for l in w) for w in canonwords(3))\n",
    "        '|2|21|210|2101|21012|1|12|121|1210|12101|121012|10|102|1021|10210|101|1012|10121|101210|1012101|0|02|021|0210|01|012|0121|01210|012101|010|0102|01021|010210'\n",
    "    \"\"\"\n",
    "    return [code2word(c) for c in codes(n)]\n",
    "\n",
    "def prod_rook(r1, r2):\n",
    "    r\"\"\"\n",
    "    Product in the 0-rook monoid\n",
    "\n",
    "    TESTS::\n",
    "\n",
    "        sage: for n in range(4):\n",
    "        ....:     for r1, r2, r3 in cartesian_product(([rooks(n)]*3)):\n",
    "        ....:         assert(prod_rook(r1, prod_rook(r2, r3)) ==\n",
    "        ....:                prod_rook(prod_rook(r1, r2), r3))\n",
    "    \"\"\"\n",
    "    return act_rook_w(r1, code2word(encode(r2)))\n",
    "\n",
    "\n",
    "\"\"\"\n",
    "Example \\ref{exmpl_decode}\n",
    "\n",
    "sage: c = (0, 1, 3, 2, 3, -2)\n",
    "sage: r = decode(c); r\n",
    "(2, 4, 0, 5, 0, 3)\n",
    "sage: act_code(c, 0)\n",
    "(0, 0, 3, 1, 3, 0)\n",
    "sage: decode(act_code(c, 0))\n",
    "(0, 4, 0, 5, 0, 3)\n",
    "\"\"\""
   ]
  },
  {
   "cell_type": "code",
   "execution_count": 35,
   "metadata": {},
   "outputs": [],
   "source": [
    "?%load\n"
   ]
  },
  {
   "cell_type": "code",
   "execution_count": null,
   "metadata": {},
   "outputs": [],
   "source": [
    "# %load -s decode redword.sage\n",
    "def decode(c):\n",
    "    r\"\"\"\n",
    "    Decode a code (Definition \\ref{def_decode})\n",
    "\n",
    "    EXAMPLE::\n",
    "\n",
    "        sage: decode((1, 1, -1, 2, 0))\n",
    "        (0, 2, 4, 0, 1)\n",
    "        sage: decode((0, 1, 2, 4, -1))\n",
    "        (2, 0, 3, 0, 4)\n",
    "    \"\"\"\n",
    "    res = []\n",
    "    for i in range(len(c)):\n",
    "        if c[i] > 0:\n",
    "            res.insert(c[i]-1, i+1)\n",
    "        elif c[i] == 0:\n",
    "            res.insert(0, 0)\n",
    "        else:\n",
    "            res.insert(-c[i], 0)\n",
    "    return tuple(res)\n"
   ]
  },
  {
   "cell_type": "code",
   "execution_count": null,
   "metadata": {},
   "outputs": [],
   "source": []
  }
 ],
 "metadata": {
  "kernelspec": {
   "display_name": "SageMath 8.2.beta4",
   "language": "",
   "name": "sagemath"
  },
  "language_info": {
   "codemirror_mode": {
    "name": "ipython",
    "version": 2
   },
   "file_extension": ".py",
   "mimetype": "text/x-python",
   "name": "python",
   "nbconvert_exporter": "python",
   "pygments_lexer": "ipython2",
   "version": "2.7.14"
  }
 },
 "nbformat": 4,
 "nbformat_minor": 2
}
