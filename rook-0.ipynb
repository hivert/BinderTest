{
 "cells": [
  {
   "cell_type": "markdown",
   "metadata": {},
   "source": [
    "# The $0$-Rook Monoid and its Representation Theory\n",
    "\n",
    "\n",
    "Joel Gay and Florent Hivert\n",
    "\n",
    "$\\newcommand{\\emptyw}{\\varepsilon}\n",
    "\\DeclareMathOperator{\\code}{code}\n",
    "\\DeclareMathOperator{\\decode}{decode}\n",
    "\\newcommand{\\Z}{\\mathbb{Z}}\n",
    "\\newcommand{\\un}[1]{\\underline{#1}}$"
   ]
  },
  {
   "cell_type": "markdown",
   "metadata": {},
   "source": [
    "## Rook vectors\n",
    "\n",
    "A *rook vector* of size $n$ is encoded by a tuple whose element belongs to $\\{0, \\dots, n\\}$ and such that each non zero integer appears at most one. The number of rook vector is\n",
    "$$\n",
    "\\sum_{r=0}^n \\binom{n}{r}^2 r!\n",
    "$$\n",
    "($r$ denotes the number of non zero entries)."
   ]
  },
  {
   "cell_type": "code",
   "execution_count": 1,
   "metadata": {},
   "outputs": [],
   "source": [
    "# %load -s rook_number rook0.sage\n",
    "@cached_function\n",
    "def rook_number(n):\n",
    "    r\"\"\"\n",
    "    The number of rooks\n",
    "\n",
    "    EXAMPLES::\n",
    "\n",
    "        sage: [rook_number(i) for i in range(10)]\n",
    "        [1, 2, 7, 34, 209, 1546, 13327, 130922, 1441729, 17572114]\n",
    "        sage: rook_number(10)\n",
    "        234662231\n",
    "        sage: sum(c(10, k) for k in range(11))\n",
    "        234662231\n",
    "    \"\"\"\n",
    "    return sum(binomial(n, r)^2 * factorial(r) for r in range(n+1))"
   ]
  },
  {
   "cell_type": "code",
   "execution_count": 2,
   "metadata": {
    "scrolled": true
   },
   "outputs": [
    {
     "data": {
      "text/plain": [
       "[1, 2, 7, 34, 209, 1546, 13327, 130922, 1441729, 17572114]"
      ]
     },
     "execution_count": 2,
     "metadata": {},
     "output_type": "execute_result"
    }
   ],
   "source": [
    "[rook_number(i) for i in range(10)]"
   ]
  },
  {
   "cell_type": "markdown",
   "metadata": {},
   "source": [
    "### Rook triangle \n",
    "\n",
    "Count the rook according to the position of the first zero\n",
    "\n",
    "Implementation using Lemma 3.28, page 19\n",
    "\n"
   ]
  },
  {
   "cell_type": "code",
   "execution_count": 3,
   "metadata": {},
   "outputs": [],
   "source": [
    "# %load -s c rook0.sage\n",
    "@cached_function\n",
    "def c(n, k):\n",
    "    \"\"\"\n",
    "    Rook triangle : count the rook according to the position of the first zero\n",
    "\n",
    "    Alternative implementation using Lemma 3.28, page 19\n",
    "\n",
    "    EXAMPLES::\n",
    "\n",
    "        sage: [[c(n, k) for k in range(n+1)] for n in range(8)]\n",
    "        [[1],\n",
    "         [1, 1],\n",
    "         [3, 2, 2],\n",
    "         [13, 9, 6, 6],\n",
    "         [73, 52, 36, 24, 24],\n",
    "         [501, 365, 260, 180, 120, 120],\n",
    "         [4051, 3006, 2190, 1560, 1080, 720, 720],\n",
    "         [37633, 28357, 21042, 15330, 10920, 7560, 5040, 5040]]\n",
    "    \"\"\"\n",
    "    if k < 0 or k > n: return 0\n",
    "    if n == 0: return 1\n",
    "    return (c(n-1, k)*(n-k-1) + c(n-1, k-1)*k +\n",
    "            sum(c(n-1, k1) for k1 in range (k, n+1)))"
   ]
  },
  {
   "cell_type": "code",
   "execution_count": 4,
   "metadata": {},
   "outputs": [
    {
     "data": {
      "text/plain": [
       "[[1],\n",
       " [1, 1],\n",
       " [3, 2, 2],\n",
       " [13, 9, 6, 6],\n",
       " [73, 52, 36, 24, 24],\n",
       " [501, 365, 260, 180, 120, 120],\n",
       " [4051, 3006, 2190, 1560, 1080, 720, 720],\n",
       " [37633, 28357, 21042, 15330, 10920, 7560, 5040, 5040],\n",
       " [394353, 301064, 226856, 168336, 122640, 87360, 60480, 40320, 40320]]"
      ]
     },
     "execution_count": 4,
     "metadata": {},
     "output_type": "execute_result"
    }
   ],
   "source": [
    "[[c(n, k) for k in range(n+1)] for n in range(9)]"
   ]
  },
  {
   "cell_type": "code",
   "execution_count": 5,
   "metadata": {},
   "outputs": [],
   "source": [
    "# %load -s is_rook rook0.sage\n",
    "def is_rook(r):\n",
    "    r\"\"\"\n",
    "    Test for rook\n",
    "\n",
    "    EXAMPLES::\n",
    "\n",
    "        sage: is_rook((0, 1, 4, 3, 2))\n",
    "        True\n",
    "        sage: is_rook((0, 1, 5, 3, 2))\n",
    "        True\n",
    "        sage: is_rook((0, 1, 6, 3, 2))\n",
    "        False\n",
    "        sage: is_rook((0, 1, 2, 3, 2))\n",
    "        False\n",
    "        sage: is_rook((0, -1, 2, 3, 0))\n",
    "        False\n",
    "    \"\"\"\n",
    "    n = len(r)\n",
    "    for i in r:\n",
    "        if not (0 <= i <= n):\n",
    "            return False\n",
    "    for i in range(1, n+1):\n",
    "        if r.count(i) > 1:\n",
    "            return False\n",
    "    return True\n"
   ]
  },
  {
   "cell_type": "code",
   "execution_count": 6,
   "metadata": {},
   "outputs": [
    {
     "data": {
      "text/plain": [
       "True"
      ]
     },
     "execution_count": 6,
     "metadata": {},
     "output_type": "execute_result"
    }
   ],
   "source": [
    "is_rook((0, 1, 4, 3, 2))"
   ]
  },
  {
   "cell_type": "code",
   "execution_count": 7,
   "metadata": {},
   "outputs": [
    {
     "data": {
      "text/plain": [
       "True"
      ]
     },
     "execution_count": 7,
     "metadata": {},
     "output_type": "execute_result"
    }
   ],
   "source": [
    "is_rook((0, 1, 5, 3, 2))"
   ]
  },
  {
   "cell_type": "code",
   "execution_count": 8,
   "metadata": {},
   "outputs": [
    {
     "data": {
      "text/plain": [
       "False"
      ]
     },
     "execution_count": 8,
     "metadata": {},
     "output_type": "execute_result"
    }
   ],
   "source": [
    "is_rook((0, 1, 6, 3, 2))"
   ]
  },
  {
   "cell_type": "code",
   "execution_count": 9,
   "metadata": {},
   "outputs": [
    {
     "data": {
      "text/plain": [
       "False"
      ]
     },
     "execution_count": 9,
     "metadata": {},
     "output_type": "execute_result"
    }
   ],
   "source": [
    "is_rook((0, 1, 2, 3, 2))"
   ]
  },
  {
   "cell_type": "code",
   "execution_count": 10,
   "metadata": {
    "scrolled": true
   },
   "outputs": [
    {
     "data": {
      "text/plain": [
       "False"
      ]
     },
     "execution_count": 10,
     "metadata": {},
     "output_type": "execute_result"
    }
   ],
   "source": [
    "is_rook((0, -1, 2, 3, 0))"
   ]
  },
  {
   "cell_type": "code",
   "execution_count": null,
   "metadata": {},
   "outputs": [],
   "source": []
  },
  {
   "cell_type": "code",
   "execution_count": null,
   "metadata": {},
   "outputs": [],
   "source": []
  },
  {
   "cell_type": "markdown",
   "metadata": {},
   "source": [
    "We enumerate rook vector recursively as follows: from a rook of size $n-1$, we get a rook of size $n$ by\n",
    "\n",
    "- either insert $n$ at any place\n",
    "- either insert a $0$. To get each rook ony once, we choose to always insert before any other $0$.\n",
    "\n",
    "Starting from the set of rooks of size $n-1$, one gets each rook of size $n$ exactly once."
   ]
  },
  {
   "cell_type": "code",
   "execution_count": 11,
   "metadata": {},
   "outputs": [],
   "source": [
    "# %load -s first_zero rook0.sage\n",
    "def first_zero(r):\n",
    "    r\"\"\"\n",
    "    The position of the first zero\n",
    "\n",
    "    EXAMPLES::\n",
    "\n",
    "        sage: first_zero((1,2,0,2,0))\n",
    "        2\n",
    "\n",
    "    TESTS:\n",
    "\n",
    "        sage: for n in range(7):\n",
    "        ....:     l = [first_zero(r) for r in rooks(n)]\n",
    "        ....:     for k in range(n+1):\n",
    "        ....:         assert(l.count(k) == c(n, k))\n",
    "    \"\"\"\n",
    "    if 0 in r:\n",
    "        return r.index(0)\n",
    "    else:\n",
    "        return len(r)"
   ]
  },
  {
   "cell_type": "code",
   "execution_count": 12,
   "metadata": {},
   "outputs": [
    {
     "data": {
      "text/plain": [
       "2"
      ]
     },
     "execution_count": 12,
     "metadata": {},
     "output_type": "execute_result"
    }
   ],
   "source": [
    "first_zero((1,2,0,2,0))"
   ]
  },
  {
   "cell_type": "code",
   "execution_count": null,
   "metadata": {},
   "outputs": [],
   "source": []
  },
  {
   "cell_type": "code",
   "execution_count": null,
   "metadata": {},
   "outputs": [],
   "source": []
  },
  {
   "cell_type": "markdown",
   "metadata": {},
   "source": [
    "Here is a function to generate rooks"
   ]
  },
  {
   "cell_type": "code",
   "execution_count": 13,
   "metadata": {},
   "outputs": [],
   "source": [
    "def rooks_iter(n):\n",
    "    if n == 0: \n",
    "        yield ()\n",
    "    else: \n",
    "        for r in rooks(n-1):\n",
    "            for i in range(n):\n",
    "                yield r[:i]+(n,)+r[i:]\n",
    "            try:\n",
    "                fz = r.index(0)\n",
    "            except ValueError:\n",
    "                fz = n-1\n",
    "            for i in range(fz+1):\n",
    "                yield r[:i]+(0,)+r[i:]\n",
    "def rooks(n):\n",
    "    return list(rooks_iter(n))"
   ]
  },
  {
   "cell_type": "code",
   "execution_count": 14,
   "metadata": {},
   "outputs": [
    {
     "data": {
      "text/plain": [
       "[()]"
      ]
     },
     "execution_count": 14,
     "metadata": {},
     "output_type": "execute_result"
    }
   ],
   "source": [
    "rooks(0)"
   ]
  },
  {
   "cell_type": "code",
   "execution_count": 15,
   "metadata": {},
   "outputs": [
    {
     "data": {
      "text/plain": [
       "[(1,), (0,)]"
      ]
     },
     "execution_count": 15,
     "metadata": {},
     "output_type": "execute_result"
    }
   ],
   "source": [
    "rooks(1)"
   ]
  },
  {
   "cell_type": "code",
   "execution_count": 16,
   "metadata": {
    "scrolled": false
   },
   "outputs": [
    {
     "data": {
      "text/plain": [
       "[(2, 1), (1, 2), (0, 1), (1, 0), (2, 0), (0, 2), (0, 0)]"
      ]
     },
     "execution_count": 16,
     "metadata": {},
     "output_type": "execute_result"
    }
   ],
   "source": [
    "rooks(2)"
   ]
  },
  {
   "cell_type": "code",
   "execution_count": 17,
   "metadata": {
    "scrolled": true
   },
   "outputs": [
    {
     "data": {
      "text/plain": [
       "[(3, 2, 1),\n",
       " (2, 3, 1),\n",
       " (2, 1, 3),\n",
       " (0, 2, 1),\n",
       " (2, 0, 1),\n",
       " (2, 1, 0),\n",
       " (3, 1, 2),\n",
       " (1, 3, 2),\n",
       " (1, 2, 3),\n",
       " (0, 1, 2),\n",
       " (1, 0, 2),\n",
       " (1, 2, 0),\n",
       " (3, 0, 1),\n",
       " (0, 3, 1),\n",
       " (0, 1, 3),\n",
       " (0, 0, 1),\n",
       " (3, 1, 0),\n",
       " (1, 3, 0),\n",
       " (1, 0, 3),\n",
       " (0, 1, 0),\n",
       " (1, 0, 0),\n",
       " (3, 2, 0),\n",
       " (2, 3, 0),\n",
       " (2, 0, 3),\n",
       " (0, 2, 0),\n",
       " (2, 0, 0),\n",
       " (3, 0, 2),\n",
       " (0, 3, 2),\n",
       " (0, 2, 3),\n",
       " (0, 0, 2),\n",
       " (3, 0, 0),\n",
       " (0, 3, 0),\n",
       " (0, 0, 3),\n",
       " (0, 0, 0)]"
      ]
     },
     "execution_count": 17,
     "metadata": {},
     "output_type": "execute_result"
    }
   ],
   "source": [
    "rooks(3)"
   ]
  },
  {
   "cell_type": "markdown",
   "metadata": {},
   "source": [
    "Let's perform some consistency test"
   ]
  },
  {
   "cell_type": "code",
   "execution_count": 18,
   "metadata": {},
   "outputs": [],
   "source": [
    "for n in range(9):\n",
    "    assert(len(rooks(n)) == rook_number(n))"
   ]
  },
  {
   "cell_type": "code",
   "execution_count": 19,
   "metadata": {},
   "outputs": [],
   "source": [
    "for n in range(7):\n",
    "    l = [first_zero(r) for r in rooks(n)]\n",
    "    for k in range(n+1):\n",
    "         assert(l.count(k) == c(n, k))"
   ]
  },
  {
   "cell_type": "code",
   "execution_count": null,
   "metadata": {},
   "outputs": [],
   "source": []
  },
  {
   "cell_type": "markdown",
   "metadata": {},
   "source": [
    "## Rooks and $R$-Codes\n",
    "\n",
    "In this section, we check the combinatorics of $R$-code and reduced word in $0$- and $1$-rook monoids\n",
    "The primary goal is to check that Definition 3.37, page 22 is correct."
   ]
  },
  {
   "cell_type": "markdown",
   "metadata": {},
   "source": [
    "### Function $m$ of Definition 3.16, page 16\n",
    "\n",
    "To each word $\\un{w}$ over $\\Z$, we associate a nonnegative number $m(\\un{w})$ defined recursively by: $m(\\emptyw) = 0$ and for any word $\\un{w}$ and any letter $d$,\n",
    "  \\begin{equation}\n",
    "    m(\\un{w} d) :=\n",
    "    \\begin{cases}\n",
    "      -d  & \\text{if $d\\leq0\\,$;} \\\\\n",
    "      m(\\un{w})+1 & \\text{if $0<d\\leq m(\\un{w})+1\\,$;} \\\\\n",
    "      m(\\un{w})   & \\text{if $d> m(\\un{w})+1\\,$.}\n",
    "    \\end{cases}\n",
    "  \\end{equation}\n"
   ]
  },
  {
   "cell_type": "code",
   "execution_count": 20,
   "metadata": {},
   "outputs": [],
   "source": [
    "# %load -s mcode_ref rook0.sage\n",
    "def mcode_ref(c):\n",
    "    r\"\"\"\n",
    "    Fonction m (Definition 3.16, page 16)\n",
    "\n",
    "    EXAMPLES::\n",
    "\n",
    "        sage: mcode_ref((1, 2, 8, 3, 6, 4, 2, 7))\n",
    "        5\n",
    "        sage: mcode_ref((3, 6, 4, -4, 2, 9, 4, -3, 5, 2, 5, 3, 8))\n",
    "        6\n",
    "        sage: mcode_ref((3, 6, 4, -4, 2, 9, 4, -3))\n",
    "        3\n",
    "        sage: mcode_ref((0, 2, 1, -1, 1, 2, 5, 4))\n",
    "        4\n",
    "    \"\"\"\n",
    "    if not c:\n",
    "        return 0\n",
    "    d = c[-1]\n",
    "    if d <= 0:\n",
    "        return -d\n",
    "    mw = mcode_ref(c[:-1])\n",
    "    if d <= mw + 1:\n",
    "        return mw + 1\n",
    "    else:\n",
    "        return mw"
   ]
  },
  {
   "cell_type": "code",
   "execution_count": 21,
   "metadata": {},
   "outputs": [
    {
     "data": {
      "text/plain": [
       "5"
      ]
     },
     "execution_count": 21,
     "metadata": {},
     "output_type": "execute_result"
    }
   ],
   "source": [
    "mcode_ref((1, 2, 8, 3, 6, 4, 2, 7))"
   ]
  },
  {
   "cell_type": "code",
   "execution_count": 22,
   "metadata": {},
   "outputs": [
    {
     "data": {
      "text/plain": [
       "6"
      ]
     },
     "execution_count": 22,
     "metadata": {},
     "output_type": "execute_result"
    }
   ],
   "source": [
    "mcode_ref((3, 6, 4, -4, 2, 9, 4, -3, 5, 2, 5, 3, 8))"
   ]
  },
  {
   "cell_type": "code",
   "execution_count": 23,
   "metadata": {},
   "outputs": [
    {
     "data": {
      "text/plain": [
       "3"
      ]
     },
     "execution_count": 23,
     "metadata": {},
     "output_type": "execute_result"
    }
   ],
   "source": [
    "mcode_ref((3, 6, 4, -4, 2, 9, 4, -3))"
   ]
  },
  {
   "cell_type": "code",
   "execution_count": 24,
   "metadata": {},
   "outputs": [
    {
     "data": {
      "text/plain": [
       "4"
      ]
     },
     "execution_count": 24,
     "metadata": {},
     "output_type": "execute_result"
    }
   ],
   "source": [
    "mcode_ref((0, 2, 1, -1, 1, 2, 5, 4))\n"
   ]
  },
  {
   "cell_type": "markdown",
   "metadata": {},
   "source": [
    "Here is a faster code. Warning ! it only agrees with the previous definition on rook vectors."
   ]
  },
  {
   "cell_type": "code",
   "execution_count": 25,
   "metadata": {},
   "outputs": [],
   "source": [
    "# %load -s mcode rook0.sage\n",
    "def mcode(c):\n",
    "    r\"\"\"\n",
    "    Faster Implementation of m, only agree with m on codes\n",
    "\n",
    "    TESTS::\n",
    "\n",
    "        sage: for n in range(7):\n",
    "        ....:     for c in codes(n):\n",
    "        ....:         assert(mcode_ref(c) == mcode(c))\n",
    "    \"\"\"\n",
    "    n = len(c) + 1\n",
    "    k = 0\n",
    "    for i in range(1, n):\n",
    "        if c[-i] <= 0:\n",
    "            k = i\n",
    "            break\n",
    "    if k == 0:\n",
    "        return n-1\n",
    "    else :\n",
    "        k1 = -c[-k]\n",
    "        k2 = 0\n",
    "        for i in range(-k+1, 0):\n",
    "            if c[i] <= k1+k2+1:\n",
    "                k2 += 1\n",
    "        return k1 + k2\n"
   ]
  },
  {
   "cell_type": "code",
   "execution_count": 26,
   "metadata": {},
   "outputs": [
    {
     "data": {
      "text/plain": [
       "4"
      ]
     },
     "execution_count": 26,
     "metadata": {},
     "output_type": "execute_result"
    }
   ],
   "source": [
    "mcode((0, 1, 1, -1, 1, 2, 5, 4))\n"
   ]
  },
  {
   "cell_type": "markdown",
   "metadata": {},
   "source": [
    "### $R$-Codes\n",
    "\n",
    "We now implement Definition 3.16, page 16:\n",
    "\n",
    "A word on $\\Z$ is an *$R$-code* if it can be obtained by the following recursive construction: the empty word $\\emptyw$ is a code, and $\\un{w}d$ is a code if $\\un{w}$ is a code and $-m(\\un{w}) \\leq d \\leq n$.\n"
   ]
  },
  {
   "cell_type": "code",
   "execution_count": 27,
   "metadata": {},
   "outputs": [],
   "source": [
    "# %load -s is_code,code_iter,codes rook0.sage\n",
    "def is_code(c):\n",
    "    r\"\"\"\n",
    "    Test for code (Definition 3.16, page 16)\n",
    "\n",
    "    EXAMPLES::\n",
    "\n",
    "        sage: is_code((0,))\n",
    "        True\n",
    "        sage: is_code((1,))\n",
    "        True\n",
    "        sage: is_code((2,))\n",
    "        False\n",
    "        sage: is_code((-1,))\n",
    "        False\n",
    "        sage: is_code((1, -1, -1))\n",
    "        True\n",
    "        sage: is_code((1, -1, -2))\n",
    "        False\n",
    "    \"\"\"\n",
    "    for i in range(0, len(c)):\n",
    "        if not -mcode(c[:i]) <= c[i] <= i+1:\n",
    "            return False\n",
    "    return True\n",
    "\n",
    "def code_iter(n):\n",
    "    \"\"\"\n",
    "    Iterate on codes according to Definition 3.16, page 16\n",
    "\n",
    "    See codes for tests\n",
    "    \"\"\"\n",
    "    if n == 0:\n",
    "        yield ()\n",
    "    else:\n",
    "        for c in code_iter(n-1):\n",
    "            for i in range(n, -mcode(c)-1, -1):\n",
    "                yield c + (i,)\n",
    "\n",
    "@cached_function\n",
    "def codes(n):\n",
    "    \"\"\"\n",
    "    List of codes according to Definition 3.16, page 16\n",
    "\n",
    "    EXAMPLES::\n",
    "\n",
    "        sage: codes(1)\n",
    "        [(1,), (0,)]\n",
    "        sage: codes(2)\n",
    "        [(1, 2), (1, 1), (1, 0), (1, -1), (0, 2), (0, 1), (0, 0)]\n",
    "\n",
    "    TESTS::\n",
    "\n",
    "        sage: \"|\".join(\"\".join(str(l) for l in w) for w in codes(3))\n",
    "        '123|122|121|120|12-1|12-2|113|112|111|110|11-1|11-2|103|102|101|100|1-13|1-12|1-11|1-10|1-1-1|023|022|021|020|013|012|011|010|01-1|003|002|001|000'\n",
    "        sage: for i in range(7):\n",
    "        ....:     for c in codes(i): assert(is_code(c))\n",
    "        sage: for i in range(7): assert(len(codes(i)) == r(i))\n",
    "    \"\"\"\n",
    "    return list(code_iter(n))\n"
   ]
  },
  {
   "cell_type": "code",
   "execution_count": 28,
   "metadata": {},
   "outputs": [
    {
     "data": {
      "text/plain": [
       "True"
      ]
     },
     "execution_count": 28,
     "metadata": {},
     "output_type": "execute_result"
    }
   ],
   "source": [
    "is_code((0,))"
   ]
  },
  {
   "cell_type": "code",
   "execution_count": 29,
   "metadata": {},
   "outputs": [
    {
     "data": {
      "text/plain": [
       "True"
      ]
     },
     "execution_count": 29,
     "metadata": {},
     "output_type": "execute_result"
    }
   ],
   "source": [
    "is_code((1,))"
   ]
  },
  {
   "cell_type": "code",
   "execution_count": 30,
   "metadata": {},
   "outputs": [
    {
     "data": {
      "text/plain": [
       "False"
      ]
     },
     "execution_count": 30,
     "metadata": {},
     "output_type": "execute_result"
    }
   ],
   "source": [
    "is_code((2,))"
   ]
  },
  {
   "cell_type": "code",
   "execution_count": 31,
   "metadata": {},
   "outputs": [
    {
     "data": {
      "text/plain": [
       "False"
      ]
     },
     "execution_count": 31,
     "metadata": {},
     "output_type": "execute_result"
    }
   ],
   "source": [
    "is_code((-1,))"
   ]
  },
  {
   "cell_type": "code",
   "execution_count": 32,
   "metadata": {},
   "outputs": [
    {
     "data": {
      "text/plain": [
       "True"
      ]
     },
     "execution_count": 32,
     "metadata": {},
     "output_type": "execute_result"
    }
   ],
   "source": [
    "is_code((1, -1, -1))"
   ]
  },
  {
   "cell_type": "code",
   "execution_count": 33,
   "metadata": {},
   "outputs": [
    {
     "data": {
      "text/plain": [
       "False"
      ]
     },
     "execution_count": 33,
     "metadata": {},
     "output_type": "execute_result"
    }
   ],
   "source": [
    "is_code((1, -1, -2))"
   ]
  },
  {
   "cell_type": "code",
   "execution_count": 34,
   "metadata": {},
   "outputs": [
    {
     "data": {
      "text/plain": [
       "[(1,), (0,)]"
      ]
     },
     "execution_count": 34,
     "metadata": {},
     "output_type": "execute_result"
    }
   ],
   "source": [
    "codes(1)"
   ]
  },
  {
   "cell_type": "code",
   "execution_count": 35,
   "metadata": {},
   "outputs": [
    {
     "data": {
      "text/plain": [
       "[(1, 2), (1, 1), (1, 0), (1, -1), (0, 2), (0, 1), (0, 0)]"
      ]
     },
     "execution_count": 35,
     "metadata": {},
     "output_type": "execute_result"
    }
   ],
   "source": [
    "codes(2)"
   ]
  },
  {
   "cell_type": "code",
   "execution_count": 36,
   "metadata": {},
   "outputs": [
    {
     "data": {
      "text/plain": [
       "[(1, 2, 3),\n",
       " (1, 2, 2),\n",
       " (1, 2, 1),\n",
       " (1, 2, 0),\n",
       " (1, 2, -1),\n",
       " (1, 2, -2),\n",
       " (1, 1, 3),\n",
       " (1, 1, 2),\n",
       " (1, 1, 1),\n",
       " (1, 1, 0),\n",
       " (1, 1, -1),\n",
       " (1, 1, -2),\n",
       " (1, 0, 3),\n",
       " (1, 0, 2),\n",
       " (1, 0, 1),\n",
       " (1, 0, 0),\n",
       " (1, -1, 3),\n",
       " (1, -1, 2),\n",
       " (1, -1, 1),\n",
       " (1, -1, 0),\n",
       " (1, -1, -1),\n",
       " (0, 2, 3),\n",
       " (0, 2, 2),\n",
       " (0, 2, 1),\n",
       " (0, 2, 0),\n",
       " (0, 1, 3),\n",
       " (0, 1, 2),\n",
       " (0, 1, 1),\n",
       " (0, 1, 0),\n",
       " (0, 1, -1),\n",
       " (0, 0, 3),\n",
       " (0, 0, 2),\n",
       " (0, 0, 1),\n",
       " (0, 0, 0)]"
      ]
     },
     "execution_count": 36,
     "metadata": {},
     "output_type": "execute_result"
    }
   ],
   "source": [
    "codes(3)"
   ]
  },
  {
   "cell_type": "markdown",
   "metadata": {},
   "source": [
    "Let's perform some consistency test"
   ]
  },
  {
   "cell_type": "code",
   "execution_count": 37,
   "metadata": {},
   "outputs": [],
   "source": [
    "for i in range(7):\n",
    "    for c in codes(i): assert(is_code(c))"
   ]
  },
  {
   "cell_type": "code",
   "execution_count": 38,
   "metadata": {},
   "outputs": [],
   "source": [
    "for i in range(7): assert(len(codes(i)) == rook_number(i))"
   ]
  },
  {
   "cell_type": "code",
   "execution_count": 39,
   "metadata": {},
   "outputs": [],
   "source": [
    "for n in range(7):\n",
    "    for c in codes(n):\n",
    "        assert(mcode_ref(c) == mcode(c))"
   ]
  },
  {
   "cell_type": "code",
   "execution_count": null,
   "metadata": {},
   "outputs": [],
   "source": []
  },
  {
   "cell_type": "markdown",
   "metadata": {},
   "source": [
    "### Encoding and decoding rooks\n",
    "\n",
    "**Definition 3.12, page 16**:\n",
    "\n",
    "For a rook $r$ of length $n$, we call the *$R$-code of $r$* and denote $\\code(r)$ the word of lenght $n$ on $\\Z$ defined recursively by:\n",
    "\n",
    "1. If $n=0$ then $\\code(\\emptyw) := \\emptyw$.\n",
    "2. Otherwise, if $n\\in r$, then $r$ can be written uniquely\n",
    "    $r=\\un{b}n\\un{e}$. Let $r':=\\un{b}\\un{e}$ (the subword of\n",
    "    $r$ where the unique occurrence of $n$ is removed). Then $\\code(r)\n",
    "    := \\code(r')\\cdot (\\ell(\\un{b})+1)$.\n",
    "3. Otherwise, $n\\notin r$ and $r$ can be written uniquely\n",
    "    $r=\\un{b}0\\un{e}$ with $0\\notin \\un{b}$. Let $r':=\\un{b}\\un{e}$ (the\n",
    "    subword of $r$ where the first $0$ is removed). Then $\\code(r) :=\n",
    "    \\code(r')\\cdot (-\\ell(\\un{b}))$.\n"
   ]
  },
  {
   "cell_type": "code",
   "execution_count": 40,
   "metadata": {},
   "outputs": [],
   "source": [
    "# %load -s encode,decode rook0.sage\n",
    "def encode(r):\n",
    "    r\"\"\"\n",
    "    Encode a rook (Definition 3.12, page 16)\n",
    "\n",
    "    EXAMPLES::\n",
    "\n",
    "        sage: encode((2, 0, 3, 0, 4))\n",
    "        (0, 1, 2, 4, -1)\n",
    "        sage: encode((0, 2, 4, 0, 1))\n",
    "        (1, 1, -1, 2, 0)\n",
    "\n",
    "    TESTS::\n",
    "\n",
    "        sage: for n in range(7):\n",
    "        ....:     for c in codes(n):\n",
    "        ....:         assert(c == encode(decode(c)))\n",
    "    \"\"\"\n",
    "    n = len(r)\n",
    "    r = list(r)\n",
    "    res = []\n",
    "    for i in range(n, 0, -1):\n",
    "        if i in r:\n",
    "            pos = r.index(i)\n",
    "            res.append(pos+1)\n",
    "            del r[pos]\n",
    "        else:\n",
    "            pos = r.index(0)\n",
    "            res.append(-pos)\n",
    "            del r[pos]\n",
    "    return tuple(res[::-1])\n",
    "\n",
    "def decode(c):\n",
    "    r\"\"\"\n",
    "    Decode a code (Definition 3.23, page 18)\n",
    "\n",
    "    EXAMPLE::\n",
    "\n",
    "        sage: decode((1, 1, -1, 2, 0))\n",
    "        (0, 2, 4, 0, 1)\n",
    "        sage: decode((0, 1, 2, 4, -1))\n",
    "        (2, 0, 3, 0, 4)\n",
    "    \"\"\"\n",
    "    res = []\n",
    "    for i in range(len(c)):\n",
    "        if c[i] > 0:\n",
    "            res.insert(c[i]-1, i+1)\n",
    "        elif c[i] == 0:\n",
    "            res.insert(0, 0)\n",
    "        else:\n",
    "            res.insert(-c[i], 0)\n",
    "    return tuple(res)"
   ]
  },
  {
   "cell_type": "code",
   "execution_count": 41,
   "metadata": {},
   "outputs": [
    {
     "data": {
      "text/plain": [
       "(0, 1, 2, 4, -1)"
      ]
     },
     "execution_count": 41,
     "metadata": {},
     "output_type": "execute_result"
    }
   ],
   "source": [
    "encode((2, 0, 3, 0, 4))"
   ]
  },
  {
   "cell_type": "code",
   "execution_count": 42,
   "metadata": {},
   "outputs": [
    {
     "data": {
      "text/plain": [
       "(1, 1, -1, 2, 0)"
      ]
     },
     "execution_count": 42,
     "metadata": {},
     "output_type": "execute_result"
    }
   ],
   "source": [
    "encode((0, 2, 4, 0, 1))"
   ]
  },
  {
   "cell_type": "code",
   "execution_count": 43,
   "metadata": {},
   "outputs": [],
   "source": [
    "for n in range(7):\n",
    "    for c in codes(n):\n",
    "        assert(c == encode(decode(c)))"
   ]
  },
  {
   "cell_type": "code",
   "execution_count": 44,
   "metadata": {},
   "outputs": [
    {
     "data": {
      "text/plain": [
       "(0, 2, 4, 0, 1)"
      ]
     },
     "execution_count": 44,
     "metadata": {},
     "output_type": "execute_result"
    }
   ],
   "source": [
    "decode((1, 1, -1, 2, 0))"
   ]
  },
  {
   "cell_type": "code",
   "execution_count": 45,
   "metadata": {},
   "outputs": [
    {
     "data": {
      "text/plain": [
       "(2, 0, 3, 0, 4)"
      ]
     },
     "execution_count": 45,
     "metadata": {},
     "output_type": "execute_result"
    }
   ],
   "source": [
    "decode((0, 1, 2, 4, -1)) "
   ]
  },
  {
   "cell_type": "code",
   "execution_count": null,
   "metadata": {},
   "outputs": [],
   "source": []
  },
  {
   "cell_type": "markdown",
   "metadata": {},
   "source": [
    "### Action on rooks"
   ]
  },
  {
   "cell_type": "code",
   "execution_count": 46,
   "metadata": {},
   "outputs": [],
   "source": [
    "# %load -s act_rook,act_rook_w rook0.sage\n",
    "def act_rook(r, i):\n",
    "    r\"\"\"\n",
    "    Right action on a rook (Definition 3.8, page 15)\n",
    "\n",
    "    EXAMPLES::\n",
    "\n",
    "        sage: act_rook((1, 2, 3), 1)\n",
    "        (2, 1, 3)\n",
    "        sage: act_rook((1, 2, 3), 2)\n",
    "        (1, 3, 2)\n",
    "        sage: act_rook((1, 2, 3), 0)\n",
    "        (0, 2, 3)\n",
    "        sage: act_rook((3, 1, 2), 0)\n",
    "        (0, 1, 2)\n",
    "        sage: act_rook((3, 1, 2), 1)\n",
    "        (3, 1, 2)\n",
    "        sage: act_rook((3, 1, 2), 2)\n",
    "        (3, 2, 1)\n",
    "    \"\"\"\n",
    "    if i == 0:\n",
    "        return (0,) + r[1:]\n",
    "    elif r[i-1] >= r[i]:\n",
    "        return r\n",
    "    else:\n",
    "        return r[:i-1]+(r[i], r[i-1])+r[i+1:]\n",
    "\n",
    "def act_rook_w(r, w):\n",
    "    r\"\"\"\n",
    "    Right action of a word on a rook (Definition 3.8, page 15)\n",
    "\n",
    "    TESTS::\n",
    "\n",
    "        sage: for n in range(7):\n",
    "        ....:     for c in codes(n):\n",
    "        ....:         assert(act_rook_w(tuple(range(1, n+1)), code2word(c)) ==\n",
    "        ....:                decode(c))\n",
    "    \"\"\"\n",
    "    for i in w:\n",
    "        r = act_rook(r, i)\n",
    "    return r"
   ]
  },
  {
   "cell_type": "code",
   "execution_count": 47,
   "metadata": {},
   "outputs": [
    {
     "data": {
      "text/plain": [
       "(2, 1, 3)"
      ]
     },
     "execution_count": 47,
     "metadata": {},
     "output_type": "execute_result"
    }
   ],
   "source": [
    "act_rook((1, 2, 3), 1)"
   ]
  },
  {
   "cell_type": "code",
   "execution_count": 48,
   "metadata": {},
   "outputs": [
    {
     "data": {
      "text/plain": [
       "(1, 3, 2)"
      ]
     },
     "execution_count": 48,
     "metadata": {},
     "output_type": "execute_result"
    }
   ],
   "source": [
    "act_rook((1, 2, 3), 2)"
   ]
  },
  {
   "cell_type": "code",
   "execution_count": 49,
   "metadata": {},
   "outputs": [
    {
     "data": {
      "text/plain": [
       "(0, 2, 3)"
      ]
     },
     "execution_count": 49,
     "metadata": {},
     "output_type": "execute_result"
    }
   ],
   "source": [
    "act_rook((1, 2, 3), 0)"
   ]
  },
  {
   "cell_type": "code",
   "execution_count": 50,
   "metadata": {},
   "outputs": [
    {
     "data": {
      "text/plain": [
       "(0, 1, 2)"
      ]
     },
     "execution_count": 50,
     "metadata": {},
     "output_type": "execute_result"
    }
   ],
   "source": [
    "act_rook((3, 1, 2), 0)"
   ]
  },
  {
   "cell_type": "code",
   "execution_count": 51,
   "metadata": {},
   "outputs": [
    {
     "data": {
      "text/plain": [
       "(3, 1, 2)"
      ]
     },
     "execution_count": 51,
     "metadata": {},
     "output_type": "execute_result"
    }
   ],
   "source": [
    "act_rook((3, 1, 2), 1)"
   ]
  },
  {
   "cell_type": "code",
   "execution_count": 52,
   "metadata": {},
   "outputs": [
    {
     "data": {
      "text/plain": [
       "(3, 2, 1)"
      ]
     },
     "execution_count": 52,
     "metadata": {},
     "output_type": "execute_result"
    }
   ],
   "source": [
    "act_rook((3, 1, 2), 2)"
   ]
  },
  {
   "cell_type": "code",
   "execution_count": null,
   "metadata": {},
   "outputs": [],
   "source": []
  },
  {
   "cell_type": "code",
   "execution_count": null,
   "metadata": {},
   "outputs": [],
   "source": []
  },
  {
   "cell_type": "markdown",
   "metadata": {},
   "source": [
    "## Action on codes"
   ]
  },
  {
   "cell_type": "code",
   "execution_count": 53,
   "metadata": {},
   "outputs": [],
   "source": [
    "# %load -s act_code,act_code_w rook0.sage\n",
    "def act_code(c, t, print_rule = False):\n",
    "    r\"\"\"\n",
    "    Right action on a code (Definition 3.37, page 22)\n",
    "\n",
    "    EXAMPLES::\n",
    "\n",
    "        sage: act_code((1, 2, 3, 4, -2, 1, 2, 6, -4), 5)\n",
    "        (1, 2, 3, 4, -2, 1, 2, 6, -4)\n",
    "    \"\"\"\n",
    "    n = len(c)\n",
    "    if n == 1:\n",
    "        assert(t == 0)\n",
    "        return (0,)\n",
    "    cn = c[-1]\n",
    "    if cn >= 1:  # Pos\n",
    "        if t == cn:      # a\n",
    "            if print_rule: print \"Pos.a\",\n",
    "            return c\n",
    "        elif t == cn-1:  # b\n",
    "            if print_rule: print \"Pos.b\",\n",
    "            return c[:-1] + (cn-1,)\n",
    "        elif t < cn -1:  # c\n",
    "            if print_rule: print \"Pos.c\",\n",
    "            return act_code(c[:-1], t) + (cn,)\n",
    "        else:            # d\n",
    "            if print_rule: print \"Pos.d\",\n",
    "            return act_code(c[:-1], t-1) + (cn,)\n",
    "    else:        # Neg\n",
    "        i = -cn\n",
    "        if t == i:       # a\n",
    "            if print_rule: print \"Neg.a\",\n",
    "            return c\n",
    "        elif 0 < t < i:      # b\n",
    "            if print_rule: print \"Neg.b\",\n",
    "            return act_code(c[:-1], t) + (cn,)\n",
    "        elif t > i + 1:  # c\n",
    "            if print_rule: print \"Neg.c\",\n",
    "            return act_code(c[:-1], t-1) + (cn,)\n",
    "        elif t == 0:     # d\n",
    "            if print_rule: print \"Neg.d\",\n",
    "            return act_code_w(c[:-1], range(i)) + (0,)\n",
    "        else:            # e\n",
    "            if mcode(c[:-1]) == i:  # alpha\n",
    "                if print_rule: print \"Neg.e.alpha\",\n",
    "                return c\n",
    "            else:                   # beta\n",
    "                if print_rule: print \"Neg.e.beta\",\n",
    "                return c[:-1]+(-(i+1),)\n",
    "\n",
    "def act_code_w(c, w):\n",
    "    r\"\"\"\n",
    "    Right action of a word on a code (Definition 3.37, page 22)\n",
    "\n",
    "    TESTS::\n",
    "\n",
    "        sage: for n in range(7):\n",
    "        ....:     for c in codes(n):\n",
    "        ....:          assert(decode(c) ==\n",
    "        ....:                 act_rook_w(tuple(range(1, n+1)), code2word(c)))\n",
    "    \"\"\"\n",
    "    for i in w:\n",
    "        c = act_code(c, i)\n",
    "    return c"
   ]
  },
  {
   "cell_type": "code",
   "execution_count": 54,
   "metadata": {},
   "outputs": [
    {
     "data": {
      "text/plain": [
       "(1, 2, 3, 4, -2, 1, 2, 6, -4)"
      ]
     },
     "execution_count": 54,
     "metadata": {},
     "output_type": "execute_result"
    }
   ],
   "source": [
    "act_code((1, 2, 3, 4, -2, 1, 2, 6, -4), 5)"
   ]
  },
  {
   "cell_type": "code",
   "execution_count": null,
   "metadata": {},
   "outputs": [],
   "source": []
  },
  {
   "cell_type": "markdown",
   "metadata": {},
   "source": [
    "## Canonical word associated to a code"
   ]
  },
  {
   "cell_type": "code",
   "execution_count": 55,
   "metadata": {},
   "outputs": [],
   "source": [
    "# %load -s code2word rook0.sage\n",
    "def code2word(c):\n",
    "    r\"\"\"\n",
    "    Word associated to a code (Definition 3.33, page 21)\n",
    "\n",
    "    EXAMPLES::\n",
    "\n",
    "        sage: code2word((1, 1, -1, 2, 0))\n",
    "        [1, 2, 1, 0, 1, 3, 2, 4, 3, 2, 1, 0]\n",
    "    \"\"\"\n",
    "    res = []\n",
    "    for i, ci in enumerate(c):\n",
    "        if ci <= 0:\n",
    "            res.append(range(i, -1, -1)+range(1, -ci+1))\n",
    "        else:\n",
    "            res.append(range(i, ci-1, -1))\n",
    "    return flatten(res)"
   ]
  },
  {
   "cell_type": "code",
   "execution_count": 56,
   "metadata": {},
   "outputs": [
    {
     "data": {
      "text/plain": [
       "[1, 2, 1, 0, 1, 3, 2, 4, 3, 2, 1, 0]"
      ]
     },
     "execution_count": 56,
     "metadata": {},
     "output_type": "execute_result"
    }
   ],
   "source": [
    "code2word((1, 1, -1, 2, 0))"
   ]
  },
  {
   "cell_type": "code",
   "execution_count": 57,
   "metadata": {},
   "outputs": [
    {
     "data": {
      "text/plain": [
       "((0, 2, 4, 0, 1), (0, 2, 4, 0, 1))"
      ]
     },
     "execution_count": 57,
     "metadata": {},
     "output_type": "execute_result"
    }
   ],
   "source": [
    "decode((1, 1, -1, 2, 0)), act_rook_w((1, 2, 3, 4, 5), code2word((1, 1, -1, 2, 0)))"
   ]
  },
  {
   "cell_type": "code",
   "execution_count": null,
   "metadata": {},
   "outputs": [],
   "source": []
  },
  {
   "cell_type": "markdown",
   "metadata": {},
   "source": [
    "Check that acting on the identity and decoding is the same"
   ]
  },
  {
   "cell_type": "code",
   "execution_count": 58,
   "metadata": {},
   "outputs": [],
   "source": [
    "for n in range(7):\n",
    "    for c in codes(n):\n",
    "        assert(act_rook_w(tuple(range(1, n+1)), code2word(c)) == decode(c))"
   ]
  },
  {
   "cell_type": "markdown",
   "metadata": {},
   "source": [
    "Check that acting on code and acting on rook commute"
   ]
  },
  {
   "cell_type": "code",
   "execution_count": 59,
   "metadata": {},
   "outputs": [],
   "source": [
    "# %load -s check_act rook0.sage\n",
    "def check_act(n, print_rule = False):\n",
    "    r\"\"\"\n",
    "    Check for Lemma 3.38, page 22 and Corollary 3.44, page 27\n",
    "\n",
    "    TESTS::\n",
    "\n",
    "        sage: for n in range(7): check_act(n)\n",
    "\n",
    "        sage: check_act(2, True)\n",
    "        Pos.c Code=(1, 2), i=0, w=[], r=(1, 2), r.i=(0, 2), c.i=(0, 2)\n",
    "        Pos.b Code=(1, 2), i=1, w=[], r=(1, 2), r.i=(2, 1), c.i=(1, 1)\n",
    "        Pos.b Code=(1, 1), i=0, w=[1], r=(2, 1), r.i=(0, 1), c.i=(1, 0)\n",
    "        Pos.a Code=(1, 1), i=1, w=[1], r=(2, 1), r.i=(2, 1), c.i=(1, 1)\n",
    "        Neg.a Code=(1, 0), i=0, w=[1, 0], r=(0, 1), r.i=(0, 1), c.i=(1, 0)\n",
    "        Neg.e.beta Code=(1, 0), i=1, w=[1, 0], r=(0, 1), r.i=(1, 0), c.i=(1, -1)\n",
    "        Neg.d Code=(1, -1), i=0, w=[1, 0, 1], r=(1, 0), r.i=(0, 0), c.i=(0, 0)\n",
    "        Neg.a Code=(1, -1), i=1, w=[1, 0, 1], r=(1, 0), r.i=(1, 0), c.i=(1, -1)\n",
    "        Pos.c Code=(0, 2), i=0, w=[0], r=(0, 2), r.i=(0, 2), c.i=(0, 2)\n",
    "        Pos.b Code=(0, 2), i=1, w=[0], r=(0, 2), r.i=(2, 0), c.i=(0, 1)\n",
    "        Pos.b Code=(0, 1), i=0, w=[0, 1], r=(2, 0), r.i=(0, 0), c.i=(0, 0)\n",
    "        Pos.a Code=(0, 1), i=1, w=[0, 1], r=(2, 0), r.i=(2, 0), c.i=(0, 1)\n",
    "        Neg.a Code=(0, 0), i=0, w=[0, 1, 0], r=(0, 0), r.i=(0, 0), c.i=(0, 0)\n",
    "        Neg.e.alpha Code=(0, 0), i=1, w=[0, 1, 0], r=(0, 0), r.i=(0, 0), c.i=(0, 0)\n",
    "\n",
    "    \"\"\"\n",
    "    for c in codes(n):\n",
    "        for i in range(n):\n",
    "            ac = act_code(c, i)\n",
    "            if print_rule:\n",
    "                print \"Code=%s, i=%s, w=%s, r=%s, r.i=%s, c.i=%s\"%(\n",
    "                    c, i, code2word(c), decode(c),\n",
    "                    act_rook(decode(c), i), act_code(c, i, True))\n",
    "            assert(is_code(ac))\n",
    "            assert(decode(ac) == act_rook(decode(c), i))"
   ]
  },
  {
   "cell_type": "code",
   "execution_count": 60,
   "metadata": {},
   "outputs": [],
   "source": [
    "for n in range(7): check_act(n)"
   ]
  },
  {
   "cell_type": "code",
   "execution_count": null,
   "metadata": {},
   "outputs": [],
   "source": []
  },
  {
   "cell_type": "markdown",
   "metadata": {},
   "source": [
    "We now check Example 3.50, page 28"
   ]
  },
  {
   "cell_type": "code",
   "execution_count": 61,
   "metadata": {},
   "outputs": [
    {
     "data": {
      "text/plain": [
       "(2, 4, 0, 5, 0, 3)"
      ]
     },
     "execution_count": 61,
     "metadata": {},
     "output_type": "execute_result"
    }
   ],
   "source": [
    "c = (0, 1, 3, 2, 3, -2)\n",
    "r = decode(c); r"
   ]
  },
  {
   "cell_type": "code",
   "execution_count": 62,
   "metadata": {},
   "outputs": [
    {
     "data": {
      "text/plain": [
       "(0, 0, 3, 1, 3, 0)"
      ]
     },
     "execution_count": 62,
     "metadata": {},
     "output_type": "execute_result"
    }
   ],
   "source": [
    "act_code(c, 0)"
   ]
  },
  {
   "cell_type": "code",
   "execution_count": 63,
   "metadata": {},
   "outputs": [
    {
     "data": {
      "text/plain": [
       "(0, 4, 0, 5, 0, 3)"
      ]
     },
     "execution_count": 63,
     "metadata": {},
     "output_type": "execute_result"
    }
   ],
   "source": [
    "decode(act_code(c, 0))"
   ]
  },
  {
   "cell_type": "code",
   "execution_count": null,
   "metadata": {},
   "outputs": [],
   "source": []
  },
  {
   "cell_type": "code",
   "execution_count": null,
   "metadata": {},
   "outputs": [],
   "source": []
  },
  {
   "cell_type": "markdown",
   "metadata": {},
   "source": [
    "### Canonical words"
   ]
  },
  {
   "cell_type": "code",
   "execution_count": 64,
   "metadata": {},
   "outputs": [],
   "source": [
    "# %load -s canonize,canonwords rook0.sage\n",
    "def canonize(w):\n",
    "    r\"\"\"\n",
    "    Canonize a word\n",
    "\n",
    "    EXAMPLES::\n",
    "\n",
    "        sage: canonize([1, 0, 1, 0])\n",
    "        [0, 1, 0]\n",
    "        sage: canonize([1, 0, 1, 0, 2])\n",
    "        [0, 1, 0, 2]\n",
    "        sage: canonize([1, 0, 1, 2])\n",
    "        [1, 0, 1, 2]\n",
    "        sage: canonize([0, 1, 0, 1, 2])\n",
    "        [0, 1, 0, 2]\n",
    "    \"\"\"\n",
    "    n = max(w) + 1\n",
    "    res = act_code_w(tuple(range(1,n+1)), w)\n",
    "    return code2word(res)\n",
    "\n",
    "def canonwords(n):\n",
    "    r\"\"\"\n",
    "    List of canonical words\n",
    "\n",
    "    EXAMPLES::\n",
    "\n",
    "        sage: canonwords(0)\n",
    "        [[]]\n",
    "        sage: canonwords(1)\n",
    "        [[], [0]]\n",
    "        sage: canonwords(2)\n",
    "        [[], [1], [1, 0], [1, 0, 1], [0], [0, 1], [0, 1, 0]]\n",
    "\n",
    "    TESTS::\n",
    "\n",
    "        sage: \"|\".join(\"\".join(str(l) for l in w) for w in canonwords(3))\n",
    "        '|2|21|210|2101|21012|1|12|121|1210|12101|121012|10|102|1021|10210|101|1012|10121|101210|1012101|0|02|021|0210|01|012|0121|01210|012101|010|0102|01021|010210'\n",
    "    \"\"\"\n",
    "    return [code2word(c) for c in codes(n)]"
   ]
  },
  {
   "cell_type": "code",
   "execution_count": 65,
   "metadata": {},
   "outputs": [
    {
     "data": {
      "text/plain": [
       "[0, 1, 0]"
      ]
     },
     "execution_count": 65,
     "metadata": {},
     "output_type": "execute_result"
    }
   ],
   "source": [
    "canonize([1, 0, 1, 0])"
   ]
  },
  {
   "cell_type": "code",
   "execution_count": 66,
   "metadata": {},
   "outputs": [
    {
     "data": {
      "text/plain": [
       "[0, 1, 0, 2]"
      ]
     },
     "execution_count": 66,
     "metadata": {},
     "output_type": "execute_result"
    }
   ],
   "source": [
    "canonize([1, 0, 1, 0, 2])"
   ]
  },
  {
   "cell_type": "code",
   "execution_count": 67,
   "metadata": {},
   "outputs": [
    {
     "data": {
      "text/plain": [
       "[1, 0, 1, 2]"
      ]
     },
     "execution_count": 67,
     "metadata": {},
     "output_type": "execute_result"
    }
   ],
   "source": [
    "canonize([1, 0, 1, 2])"
   ]
  },
  {
   "cell_type": "code",
   "execution_count": 68,
   "metadata": {},
   "outputs": [
    {
     "data": {
      "text/plain": [
       "[0, 1, 0, 2]"
      ]
     },
     "execution_count": 68,
     "metadata": {},
     "output_type": "execute_result"
    }
   ],
   "source": [
    "canonize([0, 1, 0, 1, 2])"
   ]
  },
  {
   "cell_type": "code",
   "execution_count": null,
   "metadata": {},
   "outputs": [],
   "source": []
  },
  {
   "cell_type": "code",
   "execution_count": 69,
   "metadata": {},
   "outputs": [
    {
     "data": {
      "text/plain": [
       "[[]]"
      ]
     },
     "execution_count": 69,
     "metadata": {},
     "output_type": "execute_result"
    }
   ],
   "source": [
    "canonwords(0)"
   ]
  },
  {
   "cell_type": "code",
   "execution_count": 70,
   "metadata": {},
   "outputs": [
    {
     "data": {
      "text/plain": [
       "[[], [0]]"
      ]
     },
     "execution_count": 70,
     "metadata": {},
     "output_type": "execute_result"
    }
   ],
   "source": [
    "canonwords(1)"
   ]
  },
  {
   "cell_type": "code",
   "execution_count": 71,
   "metadata": {},
   "outputs": [
    {
     "data": {
      "text/plain": [
       "[[], [1], [1, 0], [1, 0, 1], [0], [0, 1], [0, 1, 0]]"
      ]
     },
     "execution_count": 71,
     "metadata": {},
     "output_type": "execute_result"
    }
   ],
   "source": [
    "canonwords(2)"
   ]
  },
  {
   "cell_type": "code",
   "execution_count": null,
   "metadata": {},
   "outputs": [],
   "source": []
  },
  {
   "cell_type": "code",
   "execution_count": null,
   "metadata": {},
   "outputs": [],
   "source": []
  },
  {
   "cell_type": "markdown",
   "metadata": {},
   "source": [
    "### The 0-Rook monoid\n",
    "\n",
    "We can now compute the product in the $0$-Rook monoid"
   ]
  },
  {
   "cell_type": "code",
   "execution_count": 72,
   "metadata": {},
   "outputs": [],
   "source": [
    "# %load -s prod_rook rook0.sage\n",
    "def prod_rook(r1, r2):\n",
    "    r\"\"\"\n",
    "    Product in the 0-rook monoid\n",
    "\n",
    "    TESTS::\n",
    "\n",
    "        sage: for n in range(4):\n",
    "        ....:     for r1, r2, r3 in cartesian_product(([rooks(n)]*3)):\n",
    "        ....:         assert(prod_rook(r1, prod_rook(r2, r3)) ==\n",
    "        ....:                prod_rook(prod_rook(r1, r2), r3))\n",
    "    \"\"\"\n",
    "    return act_rook_w(r1, code2word(encode(r2)))"
   ]
  },
  {
   "cell_type": "code",
   "execution_count": 73,
   "metadata": {},
   "outputs": [
    {
     "data": {
      "text/plain": [
       "(2, 0, 1)"
      ]
     },
     "execution_count": 73,
     "metadata": {},
     "output_type": "execute_result"
    }
   ],
   "source": [
    "prod_rook((0,2,1),(3,0,2))"
   ]
  },
  {
   "cell_type": "markdown",
   "metadata": {},
   "source": [
    "Let's check that it is associative:"
   ]
  },
  {
   "cell_type": "code",
   "execution_count": 74,
   "metadata": {},
   "outputs": [],
   "source": [
    "for n in range(4):\n",
    "    for r1, r2, r3 in cartesian_product(([rooks(n)]*3)):\n",
    "        assert(prod_rook(r1, prod_rook(r2, r3)) == prod_rook(prod_rook(r1, r2), r3))"
   ]
  },
  {
   "cell_type": "code",
   "execution_count": null,
   "metadata": {},
   "outputs": [],
   "source": []
  },
  {
   "cell_type": "code",
   "execution_count": 75,
   "metadata": {},
   "outputs": [],
   "source": [
    "# %load -s is_action_reduced rook0.sage\n",
    "def is_action_reduced(w):\n",
    "    r\"\"\"\n",
    "    Test for action reduced word (Corollary 3.54, page 29)\n",
    "\n",
    "    EXAMPLES::\n",
    "\n",
    "        sage: is_action_reduced([1, 0])\n",
    "        True\n",
    "        sage: is_action_reduced([1, 1])\n",
    "        False\n",
    "        sage: is_action_reduced([1, 0, 1])\n",
    "        True\n",
    "        sage: is_action_reduced([0, 1, 0])\n",
    "        True\n",
    "        sage: is_action_reduced([1, 0, 1, 0])\n",
    "        True\n",
    "        sage: is_action_reduced([0, 1, 0, 1])\n",
    "        False\n",
    "\n",
    "    TESTS::\n",
    "\n",
    "        sage: for n in range(7):\n",
    "        ....:     for c in codes(n):\n",
    "        ....:         assert(is_action_reduced(code2word(c)))\n",
    "    \"\"\"\n",
    "    if not w:\n",
    "        return True\n",
    "    n = max(w) + 1\n",
    "    r = tuple(range(1, n+1))\n",
    "    for i in w:\n",
    "        newr = act_rook(r, i)\n",
    "        if newr == r:\n",
    "            return False\n",
    "        r = newr\n",
    "    return True"
   ]
  },
  {
   "cell_type": "code",
   "execution_count": 76,
   "metadata": {},
   "outputs": [
    {
     "data": {
      "text/plain": [
       "True"
      ]
     },
     "execution_count": 76,
     "metadata": {},
     "output_type": "execute_result"
    }
   ],
   "source": [
    "is_action_reduced([1, 0])"
   ]
  },
  {
   "cell_type": "code",
   "execution_count": 77,
   "metadata": {},
   "outputs": [
    {
     "data": {
      "text/plain": [
       "False"
      ]
     },
     "execution_count": 77,
     "metadata": {},
     "output_type": "execute_result"
    }
   ],
   "source": [
    "is_action_reduced([1, 1])"
   ]
  },
  {
   "cell_type": "code",
   "execution_count": 78,
   "metadata": {},
   "outputs": [
    {
     "data": {
      "text/plain": [
       "True"
      ]
     },
     "execution_count": 78,
     "metadata": {},
     "output_type": "execute_result"
    }
   ],
   "source": [
    "is_action_reduced([1, 0, 1])"
   ]
  },
  {
   "cell_type": "code",
   "execution_count": 79,
   "metadata": {},
   "outputs": [
    {
     "data": {
      "text/plain": [
       "True"
      ]
     },
     "execution_count": 79,
     "metadata": {},
     "output_type": "execute_result"
    }
   ],
   "source": [
    "is_action_reduced([0, 1, 0])"
   ]
  },
  {
   "cell_type": "code",
   "execution_count": 80,
   "metadata": {},
   "outputs": [
    {
     "data": {
      "text/plain": [
       "True"
      ]
     },
     "execution_count": 80,
     "metadata": {},
     "output_type": "execute_result"
    }
   ],
   "source": [
    "is_action_reduced([1, 0, 1, 0])"
   ]
  },
  {
   "cell_type": "code",
   "execution_count": 81,
   "metadata": {},
   "outputs": [
    {
     "data": {
      "text/plain": [
       "False"
      ]
     },
     "execution_count": 81,
     "metadata": {},
     "output_type": "execute_result"
    }
   ],
   "source": [
    "is_action_reduced([0, 1, 0, 1])"
   ]
  },
  {
   "cell_type": "code",
   "execution_count": 82,
   "metadata": {},
   "outputs": [],
   "source": [
    "for n in range(7):\n",
    "    for c in codes(n):\n",
    "        assert(is_action_reduced(code2word(c)))"
   ]
  },
  {
   "cell_type": "code",
   "execution_count": null,
   "metadata": {},
   "outputs": [],
   "source": []
  },
  {
   "cell_type": "code",
   "execution_count": null,
   "metadata": {},
   "outputs": [],
   "source": []
  },
  {
   "cell_type": "markdown",
   "metadata": {},
   "source": [
    "# The $0$-rook monoid"
   ]
  },
  {
   "cell_type": "markdown",
   "metadata": {},
   "source": [
    "From now on, you need [sage_semigroups](https://github.com/nthiery/sage-semigroups/) to be installed."
   ]
  },
  {
   "cell_type": "code",
   "execution_count": 83,
   "metadata": {},
   "outputs": [
    {
     "name": "stderr",
     "output_type": "stream",
     "text": [
      "Monkey patching sage.misc.sage_unittest.InstanceTester.__init__\n",
      "Monkey patching sage.misc.sage_unittest.IsMethod\n",
      "Monkey patching sage.misc.sage_unittest.ReturnOnError\n",
      "Monkey patching sage.misc.sage_unittest.TestMethodFromIs\n",
      "Monkey patching sage.misc.sage_unittest._test_method_from_is\n",
      "Monkey patching sage.misc.sage_unittest.is_method\n",
      "Monkey patching sage.categories.aperiodic_semigroups.AperiodicSemigroups.ElementMethods\n",
      "Monkey patching sage.categories.aperiodic_semigroups.AperiodicSemigroups.ParentMethods\n",
      "Monkey patching sage.categories.character_ring_functor\n",
      "Monkey patching sage.categories.examples.finite_h_trivial_monoids\n",
      "Monkey patching sage.categories.examples.finite_semigroups.LeftRegularBand.__init__\n",
      "Monkey patching sage.categories.finite_h_trivial_semigroups\n",
      "Monkey patching sage.categories.finite_j_trivial_semigroups\n",
      "Monkey patching sage.categories.finite_left_regular_bands\n",
      "Monkey patching sage.categories.finite_semigroups.CharacterRings.WithRealizations\n",
      "Monkey patching sage.categories.finite_semigroups.CharacterRings.WithRealizations.ParentMethods\n",
      "Monkey patching sage.categories.finite_semigroups.FiniteSemigroups.CharacterRings\n",
      "Monkey patching sage.categories.finite_semigroups.FiniteSemigroups.ElementMethods\n",
      "Monkey patching sage.categories.finite_semigroups.FiniteSemigroups.ParentMethods.character_ring\n",
      "Monkey patching sage.categories.finite_semigroups.FiniteSemigroups.ParentMethods.green_classes\n",
      "Monkey patching sage.categories.finite_semigroups.FiniteSemigroups.ParentMethods.group_of_regular_j_class\n",
      "Monkey patching sage.categories.finite_semigroups.FiniteSemigroups.ParentMethods.groups_of_regular_j_classes\n",
      "Monkey patching sage.categories.finite_semigroups.FiniteSemigroups.ParentMethods.h_le_on_idempotents\n",
      "Monkey patching sage.categories.finite_semigroups.FiniteSemigroups.ParentMethods.h_poset_on_idempotents\n",
      "Monkey patching sage.categories.finite_semigroups.FiniteSemigroups.ParentMethods.index_of_regular_j_class\n",
      "Monkey patching sage.categories.finite_semigroups.FiniteSemigroups.ParentMethods.is_DA\n",
      "Monkey patching sage.categories.finite_semigroups.FiniteSemigroups.ParentMethods.is_DG\n",
      "Monkey patching sage.categories.finite_semigroups.FiniteSemigroups.ParentMethods.is_aperiodic\n",
      "Monkey patching sage.categories.finite_semigroups.FiniteSemigroups.ParentMethods.is_basic\n",
      "Monkey patching sage.categories.finite_semigroups.FiniteSemigroups.ParentMethods.is_l_trivial\n",
      "Monkey patching sage.categories.finite_semigroups.FiniteSemigroups.ParentMethods.is_r_trivial\n",
      "Monkey patching sage.categories.finite_semigroups.FiniteSemigroups.ParentMethods.j_class\n",
      "Monkey patching sage.categories.finite_semigroups.FiniteSemigroups.ParentMethods.j_class_idempotents\n",
      "Monkey patching sage.categories.finite_semigroups.FiniteSemigroups.ParentMethods.j_class_index\n",
      "Monkey patching sage.categories.finite_semigroups.FiniteSemigroups.ParentMethods.j_class_representative\n",
      "Monkey patching sage.categories.finite_semigroups.FiniteSemigroups.ParentMethods.j_classes\n",
      "Monkey patching sage.categories.finite_semigroups.FiniteSemigroups.ParentMethods.j_classes_of_idempotents\n",
      "Monkey patching sage.categories.finite_semigroups.FiniteSemigroups.ParentMethods.j_lequal\n",
      "Monkey patching sage.categories.finite_semigroups.FiniteSemigroups.ParentMethods.j_poset\n",
      "Monkey patching sage.categories.finite_semigroups.FiniteSemigroups.ParentMethods.j_poset_on_regular_classes\n",
      "Monkey patching sage.categories.finite_semigroups.FiniteSemigroups.ParentMethods.j_transversal\n",
      "Monkey patching sage.categories.finite_semigroups.FiniteSemigroups.ParentMethods.j_transversal_of_idempotents\n",
      "Monkey patching sage.categories.finite_semigroups.FiniteSemigroups.ParentMethods.l_classes\n",
      "Monkey patching sage.categories.finite_semigroups.FiniteSemigroups.ParentMethods.lr_class\n",
      "Monkey patching sage.categories.finite_semigroups.FiniteSemigroups.ParentMethods.lr_class_of\n",
      "Monkey patching sage.categories.finite_semigroups.FiniteSemigroups.ParentMethods.lr_regular_class\n",
      "Monkey patching sage.categories.finite_semigroups.FiniteSemigroups.ParentMethods.lr_regular_class_module\n",
      "Monkey patching sage.categories.finite_semigroups.FiniteSemigroups.ParentMethods.r_classes\n",
      "Monkey patching sage.categories.finite_semigroups.FiniteSemigroups.ParentMethods.regular_j_class\n",
      "Monkey patching sage.categories.finite_semigroups.FiniteSemigroups.ParentMethods.regular_j_class_semigroup_generators\n",
      "Monkey patching sage.categories.finite_semigroups.FiniteSemigroups.ParentMethods.regular_j_classes\n",
      "Monkey patching sage.categories.finite_semigroups.FiniteSemigroups.ParentMethods.regular_j_classes_keys\n",
      "Monkey patching sage.categories.finite_semigroups.FiniteSemigroups.parent_class.character_ring\n",
      "Monkey patching sage.categories.finite_semigroups.FiniteSemigroups.parent_class.green_classes\n",
      "Monkey patching sage.categories.finite_semigroups.FiniteSemigroups.parent_class.group_of_regular_j_class\n",
      "Monkey patching sage.categories.finite_semigroups.FiniteSemigroups.parent_class.groups_of_regular_j_classes\n",
      "Monkey patching sage.categories.finite_semigroups.FiniteSemigroups.parent_class.h_le_on_idempotents\n",
      "Monkey patching sage.categories.finite_semigroups.FiniteSemigroups.parent_class.h_poset_on_idempotents\n",
      "Monkey patching sage.categories.finite_semigroups.FiniteSemigroups.parent_class.index_of_regular_j_class\n",
      "Monkey patching sage.categories.finite_semigroups.FiniteSemigroups.parent_class.is_DA\n",
      "Monkey patching sage.categories.finite_semigroups.FiniteSemigroups.parent_class.is_DG\n",
      "Monkey patching sage.categories.finite_semigroups.FiniteSemigroups.parent_class.is_aperiodic\n",
      "Monkey patching sage.categories.finite_semigroups.FiniteSemigroups.parent_class.is_basic\n",
      "Monkey patching sage.categories.finite_semigroups.FiniteSemigroups.parent_class.is_l_trivial\n",
      "Monkey patching sage.categories.finite_semigroups.FiniteSemigroups.parent_class.is_r_trivial\n",
      "Monkey patching sage.categories.finite_semigroups.FiniteSemigroups.parent_class.j_class\n",
      "Monkey patching sage.categories.finite_semigroups.FiniteSemigroups.parent_class.j_class_idempotents\n",
      "Monkey patching sage.categories.finite_semigroups.FiniteSemigroups.parent_class.j_class_index\n",
      "Monkey patching sage.categories.finite_semigroups.FiniteSemigroups.parent_class.j_class_representative\n",
      "Monkey patching sage.categories.finite_semigroups.FiniteSemigroups.parent_class.j_classes\n",
      "Monkey patching sage.categories.finite_semigroups.FiniteSemigroups.parent_class.j_classes_of_idempotents\n",
      "Monkey patching sage.categories.finite_semigroups.FiniteSemigroups.parent_class.j_lequal\n",
      "Monkey patching sage.categories.finite_semigroups.FiniteSemigroups.parent_class.j_poset\n",
      "Monkey patching sage.categories.finite_semigroups.FiniteSemigroups.parent_class.j_poset_on_regular_classes\n",
      "Monkey patching sage.categories.finite_semigroups.FiniteSemigroups.parent_class.j_transversal\n",
      "Monkey patching sage.categories.finite_semigroups.FiniteSemigroups.parent_class.j_transversal_of_idempotents\n",
      "Monkey patching sage.categories.finite_semigroups.FiniteSemigroups.parent_class.l_classes\n",
      "Monkey patching sage.categories.finite_semigroups.FiniteSemigroups.parent_class.lr_class\n",
      "Monkey patching sage.categories.finite_semigroups.FiniteSemigroups.parent_class.lr_class_of\n",
      "Monkey patching sage.categories.finite_semigroups.FiniteSemigroups.parent_class.lr_regular_class\n",
      "Monkey patching sage.categories.finite_semigroups.FiniteSemigroups.parent_class.lr_regular_class_module\n",
      "Monkey patching sage.categories.finite_semigroups.FiniteSemigroups.parent_class.r_classes\n",
      "Monkey patching sage.categories.finite_semigroups.FiniteSemigroups.parent_class.regular_j_class\n",
      "Monkey patching sage.categories.finite_semigroups.FiniteSemigroups.parent_class.regular_j_class_semigroup_generators\n",
      "Monkey patching sage.categories.finite_semigroups.FiniteSemigroups.parent_class.regular_j_classes\n",
      "Monkey patching sage.categories.finite_semigroups.FiniteSemigroups.parent_class.regular_j_classes_keys\n",
      "Monkey patching sage_semigroups.categories.finite_semigroups.FiniteSemigroups.element_class.ideal\n",
      "Monkey patching sage.categories.finite_semigroups.WithRealizations.ParentMethods\n",
      "Monkey patching sage.categories.h_trivial_semigroups.HTrivialSemigroups.Finite\n",
      "Monkey patching sage.categories.h_trivial_semigroups.HTrivialSemigroups.Finite_extra_super_categories\n"
     ]
    },
    {
     "name": "stderr",
     "output_type": "stream",
     "text": [
      "Monkey patching sage.categories.j_trivial_semigroups.JTrivialSemigroups.Finite\n",
      "Monkey patching sage.categories.l_trivial_semigroups.Finite.ParentMethods\n",
      "Monkey patching sage.categories.l_trivial_semigroups.LTrivialSemigroups.Finite\n",
      "Monkey patching sage.categories.module_functor\n",
      "Monkey patching sage.categories.monoids.Monoids.ParentMethods.submonoid\n",
      "Monkey patching sage.categories.monoids.Monoids.parent_class.submonoid\n",
      "Monkey patching sage.categories.r_trivial_semigroups.Finite.ParentMethods\n",
      "Monkey patching sage.categories.r_trivial_semigroups.RTrivialSemigroups.Finite\n",
      "Monkey patching sage.categories.r_trivial_semigroups.RTrivialSemigroups.example\n",
      "Monkey patching sage.categories.semigroup_modules\n",
      "Monkey patching sage.categories.semigroups.Semigroups.ParentMethods.cayley_graph_cached\n",
      "Monkey patching sage.categories.semigroups.Semigroups.parent_class.cayley_graph_cached\n",
      "Monkey patching sage.categories.set_with_action_functor\n",
      "Monkey patching sage.categories.transformation_semigroups\n",
      "Monkey patching sage.monoids.automatic_semigroup.AutomaticSemigroup.__init__\n",
      "Monkey patching sage.monoids.bi_hecke_monoid\n",
      "Monkey patching sage.monoids.catalog\n",
      "Monkey patching sage.monoids.character_ring\n",
      "Monkey patching sage.monoids.free_left_regular_band\n",
      "Monkey patching sage.monoids.free_partially_commutative_left_regular_band\n",
      "Monkey patching sage.monoids.free_semilattice\n",
      "Monkey patching sage.monoids.j_trivial_monoids\n",
      "Monkey patching sage.monoids.karnofsky_rhodes_expansion\n",
      "Monkey patching sage.monoids.rees_matrix_monoid\n",
      "Monkey patching sage.monoids.representations\n",
      "Monkey patching sage.monoids.set_compositions_monoid\n",
      "Monkey patching sage.monoids.set_partitions_monoid\n",
      "Monkey patching sage.monoids.sign_vectors_monoid\n",
      "Monkey patching sage.monoids.transition_monoid\n"
     ]
    },
    {
     "name": "stdout",
     "output_type": "stream",
     "text": [
      "Loading sage-semigroups and patching its features into Sage's library:\n"
     ]
    }
   ],
   "source": [
    "import sage_semigroups"
   ]
  },
  {
   "cell_type": "markdown",
   "metadata": {},
   "source": [
    "We finaly check that the monoid defined as function and the one using words are isomorphic"
   ]
  },
  {
   "cell_type": "code",
   "execution_count": 84,
   "metadata": {},
   "outputs": [],
   "source": [
    "# %load -s Rook0 rook0.sage\n",
    "def Rook0(n):\n",
    "    r\"\"\"\n",
    "    The `0`-rook monoid\n",
    "\n",
    "    EXAMPLES::\n",
    "\n",
    "        sage: Mon = Rook0(4)\n",
    "        sage: Mon.fun((3,1,2,4))\n",
    "        3124\n",
    "\n",
    "    TESTS::\n",
    "\n",
    "        sage: TestSuite(Mon).run()\n",
    "    \"\"\"\n",
    "    rk  = rooks(n)\n",
    "    fun = FiniteSetMaps(rk, action=\"right\")\n",
    "    gen = { i : fun.from_dict({r : act_rook(r, i) for r in rk}) for i in range(n) }\n",
    "    monoid = fun.submonoid(gen, category = Semigroups().JTrivial().Finite())\n",
    "\n",
    "    one = tuple(range(1, n+1))\n",
    "\n",
    "    # print a function by the image of the identity\n",
    "    def print_el(el):\n",
    "        return \"\".join(str(i) for i in el.lift()(one))\n",
    "    monoid.element_class._repr_ = print_el\n",
    "    monoid.element_class._latex_ = print_el\n",
    "    monoid.rename(\"Rook monoid of rank %s as functions\"%n)\n",
    "\n",
    "    # retrieve an element from the image of the identity\n",
    "    dct = { el.lift()(one) : el for el in monoid }\n",
    "    monoid.fun = dct.get\n",
    "\n",
    "    return monoid"
   ]
  },
  {
   "cell_type": "code",
   "execution_count": 85,
   "metadata": {
    "scrolled": false
   },
   "outputs": [
    {
     "name": "stdout",
     "output_type": "stream",
     "text": [
      "running ._test_an_element() . . . pass\n",
      "running ._test_aperiodic() . . . pass\n",
      "running ._test_associativity() . . . pass\n",
      "running ._test_cardinality() . . . pass\n",
      "running ._test_category() . . . pass\n",
      "running ._test_elements() . . .\n",
      "  Running the test suite of self.an_element()\n",
      "  running ._test_category() . . . pass\n",
      "  running ._test_eq() . . . pass\n",
      "  running ._test_new() . . . pass\n",
      "  running ._test_not_implemented_methods() . . . pass\n",
      "  running ._test_pickling() . . . pass\n",
      "  pass\n",
      "running ._test_elements_eq_reflexive() . . . pass\n",
      "running ._test_elements_eq_symmetric() . . . pass\n",
      "running ._test_elements_eq_transitive() . . . pass\n",
      "running ._test_elements_neq() . . . pass\n",
      "running ._test_enumerated_set_contains() . . . pass\n",
      "running ._test_enumerated_set_iter_cardinality() . . . pass\n",
      "running ._test_enumerated_set_iter_list() . . . pass\n",
      "running ._test_eq() . . . pass\n",
      "running ._test_j_trivial() . . . pass\n",
      "running ._test_new() . . . pass\n",
      "running ._test_not_implemented_methods() . . . pass\n",
      "running ._test_one() . . . pass\n",
      "running ._test_pickling() . . . pass\n",
      "running ._test_prod() . . . pass\n",
      "running ._test_r_trivial() . . . pass\n",
      "running ._test_some_elements() . . . pass\n",
      "running ._test_symbol() . . . pass\n"
     ]
    }
   ],
   "source": [
    "TestSuite(Rook0(4)).run(verbose=True)"
   ]
  },
  {
   "cell_type": "code",
   "execution_count": 86,
   "metadata": {},
   "outputs": [
    {
     "data": {
      "text/plain": [
       "3124"
      ]
     },
     "execution_count": 86,
     "metadata": {},
     "output_type": "execute_result"
    }
   ],
   "source": [
    "Mon = Rook0(4)\n",
    "Mon.fun((3,1,2,4))"
   ]
  },
  {
   "cell_type": "code",
   "execution_count": null,
   "metadata": {},
   "outputs": [],
   "source": []
  },
  {
   "cell_type": "code",
   "execution_count": null,
   "metadata": {},
   "outputs": [],
   "source": []
  },
  {
   "cell_type": "markdown",
   "metadata": {},
   "source": [
    "We check that the product of two functions is the same as the product computed previously by the reduced word and code algorithm:"
   ]
  },
  {
   "cell_type": "code",
   "execution_count": 103,
   "metadata": {},
   "outputs": [],
   "source": [
    "# %load -s check_isom rook0.sage\n",
    "def check_isom(n):\n",
    "    r\"\"\"\n",
    "    Checking for ismorphism\n",
    "\n",
    "    TESTS::\n",
    "\n",
    "        sage: for i in range(5): check_isom(i)\n",
    "    \"\"\"\n",
    "    Mon = Rook0(n)\n",
    "    one = tuple(range(1,n+1))\n",
    "    assert len(Mon) == len(rooks(n)), \"Wrong cardinality\"\n",
    "    for m1 in Mon:\n",
    "        m1v = m1.lift()(one)\n",
    "        for m2 in Mon:\n",
    "            m2v = m2.lift()(one)\n",
    "            assert (m1*m2).lift()(one) == prod_rook(m1v, m2v)"
   ]
  },
  {
   "cell_type": "code",
   "execution_count": 104,
   "metadata": {},
   "outputs": [
    {
     "name": "stdout",
     "output_type": "stream",
     "text": [
      "Checking 0\n",
      "Checking 1\n",
      "Checking 2\n",
      "Checking 3\n",
      "Checking 4\n"
     ]
    }
   ],
   "source": [
    "for i in range(5):\n",
    "    print \"Checking %d\"%(i)\n",
    "    check_isom(i)"
   ]
  },
  {
   "cell_type": "code",
   "execution_count": null,
   "metadata": {},
   "outputs": [],
   "source": []
  },
  {
   "cell_type": "markdown",
   "metadata": {},
   "source": [
    "Using the $\\mathcal(J)$-trivial monoid theory to compute the reprensentation theory of the $0$-rooks monoids:"
   ]
  },
  {
   "cell_type": "code",
   "execution_count": 89,
   "metadata": {},
   "outputs": [],
   "source": [
    "n = 3; Mon = Rook0(n); one = tuple(range(1,n+1))"
   ]
  },
  {
   "cell_type": "code",
   "execution_count": 90,
   "metadata": {},
   "outputs": [
    {
     "data": {
      "text/plain": [
       "(\n",
       "                                          [1 0 0 0 0 0 0 0]\n",
       "                                          [0 1 1 0 1 0 0 0]\n",
       "                                          [0 1 3 0 2 1 1 0]\n",
       "                                          [0 0 0 1 0 1 1 0]\n",
       "                                          [0 1 2 0 2 0 0 0]\n",
       "                                          [0 0 1 1 0 2 2 0]\n",
       "                                          [0 0 1 1 0 2 3 0]\n",
       "[123, 023, 213, 003, 132, 032, 321, 000], [0 0 0 0 0 0 0 1]\n",
       ")"
      ]
     },
     "execution_count": 90,
     "metadata": {},
     "output_type": "execute_result"
    }
   ],
   "source": [
    "idm = sorted(Mon.idempotents(), \n",
    "             key=lambda x : x.lift()(one)[::-1])[::-1]\n",
    "idm, Mon.cartan_matrix(idempotents=tuple(idm))"
   ]
  },
  {
   "cell_type": "code",
   "execution_count": 91,
   "metadata": {},
   "outputs": [
    {
     "data": {
      "text/plain": [
       "(\\left[123, 023, 213, 003, 132, 032, 321, 000\\right],\n",
       " \\left(\\begin{array}{rrrrrrrr}\n",
       " 1 & 0 & 0 & 0 & 0 & 0 & 0 & 0 \\\\\n",
       " 0 & 1 & 1 & 0 & 1 & 0 & 0 & 0 \\\\\n",
       " 0 & 1 & 3 & 0 & 2 & 1 & 1 & 0 \\\\\n",
       " 0 & 0 & 0 & 1 & 0 & 1 & 1 & 0 \\\\\n",
       " 0 & 1 & 2 & 0 & 2 & 0 & 0 & 0 \\\\\n",
       " 0 & 0 & 1 & 1 & 0 & 2 & 2 & 0 \\\\\n",
       " 0 & 0 & 1 & 1 & 0 & 2 & 3 & 0 \\\\\n",
       " 0 & 0 & 0 & 0 & 0 & 0 & 0 & 1\n",
       " \\end{array}\\right))"
      ]
     },
     "execution_count": 91,
     "metadata": {},
     "output_type": "execute_result"
    }
   ],
   "source": [
    "latex(idm), latex(Mon.cartan_matrix(idempotents=tuple(idm)))"
   ]
  },
  {
   "cell_type": "code",
   "execution_count": 92,
   "metadata": {},
   "outputs": [
    {
     "data": {
      "image/png": "[encoded data removed]",
      "text/plain": [
       "Digraph on 8 vertices"
      ]
     },
     "execution_count": 92,
     "metadata": {},
     "output_type": "execute_result"
    }
   ],
   "source": [
    "Mon.quiver()"
   ]
  },
  {
   "cell_type": "code",
   "execution_count": null,
   "metadata": {},
   "outputs": [],
   "source": []
  },
  {
   "cell_type": "markdown",
   "metadata": {},
   "source": [
    "# $\\mathcal{R}$-Order of the $0$-Rook Monoid"
   ]
  },
  {
   "cell_type": "code",
   "execution_count": 93,
   "metadata": {},
   "outputs": [
    {
     "data": {
      "image/png": "[encoded data removed]",
      "text/plain": [
       "Graphics object consisting of 28 graphics primitives"
      ]
     },
     "execution_count": 93,
     "metadata": {},
     "output_type": "execute_result"
    }
   ],
   "source": [
    "Rook0(2).cayley_graph(side=\"right\").plot()"
   ]
  },
  {
   "cell_type": "code",
   "execution_count": 113,
   "metadata": {
    "scrolled": true
   },
   "outputs": [
    {
     "data": {
      "image/png": "[encoded data removed]",
      "text/plain": [
       "Graphics object consisting of 170 graphics primitives"
      ]
     },
     "execution_count": 113,
     "metadata": {},
     "output_type": "execute_result"
    }
   ],
   "source": [
    "Rook0(3).cayley_graph(side=\"right\").plot()"
   ]
  },
  {
   "cell_type": "code",
   "execution_count": 114,
   "metadata": {},
   "outputs": [
    {
     "data": {
      "image/png": "[encoded data removed]",
      "text/plain": [
       "Graphics object consisting of 86 graphics primitives"
      ]
     },
     "execution_count": 114,
     "metadata": {},
     "output_type": "execute_result"
    }
   ],
   "source": [
    "Gr = Rook0(3).cayley_graph(side=\"right\")\n",
    "Gr.remove_loops()  \n",
    "Gr.plot()"
   ]
  },
  {
   "cell_type": "code",
   "execution_count": 115,
   "metadata": {},
   "outputs": [],
   "source": [
    "# %load -s rook_lattice rook0.sage\n",
    "def rook_lattice(n):\n",
    "    r\"\"\"\n",
    "    The right rook lattice\n",
    "\n",
    "    We take the monoid convention, where `1` is the largest element\n",
    "\n",
    "    Examples::\n",
    "\n",
    "        sage: rook_lattice(3).cardinality()\n",
    "        34\n",
    "        sage: rook_lattice(3).is_lattice()\n",
    "        True\n",
    "        sage: rl2 = rook_lattice(2)\n",
    "        sage: matrix([[1 if rl2.le(r1, r2) else 0\n",
    "        ....:          for r1 in rooks(2)] for r2 in rooks(2)])\n",
    "        [1 1 1 1 1 1 1]\n",
    "        [0 1 1 1 0 0 1]\n",
    "        [0 0 1 1 0 0 1]\n",
    "        [0 0 0 1 0 0 1]\n",
    "        [0 0 0 0 1 1 1]\n",
    "        [0 0 0 0 0 1 1]\n",
    "        [0 0 0 0 0 0 1]\n",
    "\n",
    "    TESTS::\n",
    "\n",
    "        sage: TestSuite(rook_lattice(3)).run()\n",
    "    \"\"\"\n",
    "    one = tuple(range(1, n+1))\n",
    "    Gr = Rook0(n).cayley_graph(side=\"right\")\n",
    "    Gr.remove_loops()\n",
    "    Gr.relabel(lambda f : f.lift()(one))\n",
    "    Gr = Gr.reverse()\n",
    "    return LatticePoset(Gr)"
   ]
  },
  {
   "cell_type": "code",
   "execution_count": 116,
   "metadata": {},
   "outputs": [
    {
     "data": {
      "image/png": "[encoded data removed]",
      "text/plain": [
       "Graphics object consisting of 86 graphics primitives"
      ]
     },
     "execution_count": 116,
     "metadata": {},
     "output_type": "execute_result"
    }
   ],
   "source": [
    "rook_lattice(3).plot()"
   ]
  },
  {
   "cell_type": "code",
   "execution_count": 117,
   "metadata": {},
   "outputs": [
    {
     "data": {
      "text/plain": [
       "[True, True, True, True, True, True]"
      ]
     },
     "execution_count": 117,
     "metadata": {},
     "output_type": "execute_result"
    }
   ],
   "source": [
    "[rook_lattice(n).is_lattice() for n in range(6)]"
   ]
  },
  {
   "cell_type": "code",
   "execution_count": 118,
   "metadata": {},
   "outputs": [],
   "source": [
    "rl = rook_lattice(3)"
   ]
  },
  {
   "cell_type": "code",
   "execution_count": 119,
   "metadata": {},
   "outputs": [
    {
     "data": {
      "text/plain": [
       "[1 0 1 1 0 0 1]\n",
       "[1 1 1 1 1 1 1]\n",
       "[0 0 1 1 0 0 1]\n",
       "[0 0 0 1 0 0 1]\n",
       "[0 0 0 0 1 0 1]\n",
       "[0 0 0 0 1 1 1]\n",
       "[0 0 0 0 0 0 1]"
      ]
     },
     "execution_count": 119,
     "metadata": {},
     "output_type": "execute_result"
    }
   ],
   "source": [
    "rl2 = rook_lattice(2)\n",
    "matrix([[1 if rl2.le(r1, r2) else 0\n",
    "         for r1 in rooks(2)] for r2 in rooks(2)])"
   ]
  },
  {
   "cell_type": "markdown",
   "metadata": {},
   "source": [
    "## rook triples"
   ]
  },
  {
   "cell_type": "code",
   "execution_count": 122,
   "metadata": {},
   "outputs": [],
   "source": [
    "# %load -s support,Delta,inversion,Z,rook_triple rook0.sage\n",
    "def support(r):\n",
    "    r\"\"\"\n",
    "    The support of a rook (Definition 4.6, page 33)\n",
    "\n",
    "    Examples::\n",
    "\n",
    "        sage: support([3,1,0,2])\n",
    "        frozenset({1, 2, 3})\n",
    "        sage: support((4,1,0,2))\n",
    "        frozenset({1, 2, 4})\n",
    "    \"\"\"\n",
    "    return frozenset(r) - frozenset({0})\n",
    "\n",
    "@cached_function\n",
    "def Delta(n):\n",
    "    r\"\"\"\n",
    "    The upper diagonal set\n",
    "\n",
    "    `\\Delta:=\\{(b, a)\\ \\mid\\ n\\geq b>a>0\\}`\n",
    "\n",
    "    EXAMPLES::\n",
    "\n",
    "        sage: Delta(3)\n",
    "        frozenset({(2, 1), (3, 1), (3, 2)})\n",
    "        sage: Delta(4)\n",
    "        frozenset({(2, 1), (3, 1), (3, 2), (4, 1), (4, 2), (4, 3)})\n",
    "        sage: Delta(frozenset({1, 3, 4}))\n",
    "        frozenset({(3, 1), (4, 1), (4, 3)})\n",
    "\n",
    "        sage: Delta(frozenset({1, 2, 3, 8}))\n",
    "        frozenset({(2, 1), (3, 1), (3, 2), (8, 1), (8, 2), (8, 3)})\n",
    "    \"\"\"\n",
    "    if isinstance(n, (int, Integer)):\n",
    "        return frozenset((b,a) for b in range(1, n+1) for a in range(1, b))\n",
    "    else:\n",
    "        S = sorted(list(n))\n",
    "        n = len(S)\n",
    "        S = [None] + S  # Delta uses 1 based indexes\n",
    "        return frozenset((S[i],S[j]) for (i,j) in Delta(n))\n",
    "\n",
    "def inversion(r):\n",
    "    r\"\"\"\n",
    "    The inversion set of a rook (Definition 4.1, page 33)\n",
    "\n",
    "    EXAMPLES::\n",
    "\n",
    "        sage: inversion((3,1,0,2))\n",
    "        frozenset({(3, 1), (3, 2)})\n",
    "        sage: inversion((3,1,5,0,2))\n",
    "        frozenset({(3, 1), (3, 2), (5, 2)})\n",
    "        sage: inversion((3,1,5,0,2,4))\n",
    "        frozenset({(3, 1), (3, 2), (5, 2), (5, 4)})\n",
    "    \"\"\"\n",
    "    r = [x for x in r if x != 0]\n",
    "    res = [(r[j], r[i]) for i in range(len(r)) for j in range(i) if r[j] > r[i]]\n",
    "    return frozenset(res)\n",
    "\n",
    "def Z(r):\n",
    "    r\"\"\"\n",
    "    The zero-after number of a rook (Definition 4.6, page 33)\n",
    "\n",
    "    EXAMPLES::\n",
    "\n",
    "        sage: Z((3,1,5,0,2))\n",
    "        {1: 1, 2: 0, 3: 1, 5: 1}\n",
    "        sage: Z((3,0,5,0,2))\n",
    "        {2: 0, 3: 2, 5: 1}\n",
    "    \"\"\"\n",
    "    S = support(r)\n",
    "    r = list(r)\n",
    "    res = dict()\n",
    "    for a in S:\n",
    "        i = r.index(a)\n",
    "        res[a] = r[i:].count(0)\n",
    "    return res\n",
    "\n",
    "def rook_triple(r):\n",
    "    r\"\"\"\n",
    "    The rook triple associate to a rook (Definition 4.6, page 33)\n",
    "\n",
    "    EXAMPLES::\n",
    "\n",
    "        sage: rook_triple((2,0,5,4,0,0,1))\n",
    "        (frozenset({1, 2, 4, 5}),\n",
    "         frozenset({(2, 1), (4, 1), (5, 1), (5, 4)}),\n",
    "         {1: 0, 2: 3, 4: 2, 5: 2})\n",
    "    \"\"\"\n",
    "    return (support(r), inversion(r), Z(r))"
   ]
  },
  {
   "cell_type": "code",
   "execution_count": 123,
   "metadata": {},
   "outputs": [
    {
     "data": {
      "text/plain": [
       "(frozenset({1, 2, 4, 5}),\n",
       " frozenset({(2, 1), (4, 1), (5, 1), (5, 4)}),\n",
       " {1: 0, 2: 3, 4: 2, 5: 2})"
      ]
     },
     "execution_count": 123,
     "metadata": {},
     "output_type": "execute_result"
    }
   ],
   "source": [
    "rook_triple((2,0,5,4,0,0,1))"
   ]
  },
  {
   "cell_type": "markdown",
   "metadata": {},
   "source": [
    "## recovering a rook from its triple"
   ]
  },
  {
   "cell_type": "code",
   "execution_count": 125,
   "metadata": {},
   "outputs": [],
   "source": [
    "# %load -s from_inversion,from_rook_triple rook0.sage\n",
    "@cached_function\n",
    "def from_inversion(S, inv):\n",
    "    r\"\"\"\n",
    "    A word from its support and inversion set\n",
    "\n",
    "    EXAMPLES::\n",
    "\n",
    "        sage: from_inversion( frozenset({1, 2, 4, 5}),\n",
    "        ....:     frozenset({(2, 1), (4, 1), (5, 1), (5, 4)}))\n",
    "        [2, 5, 4, 1]\n",
    "\n",
    "        sage: from_inversion(frozenset([1, 2, 3]), frozenset([(3, 1)]))\n",
    "        Traceback (most recent call last):\n",
    "        ...\n",
    "        TypeError: Digraph is not acyclic; there is no topological sort.\n",
    "\n",
    "        sage: from_inversion(frozenset({1, 2, 3, 8}),\n",
    "        ....:                frozenset({(2, 1), (3, 1), (3, 2)}))\n",
    "        [3, 2, 1, 8]\n",
    "    \"\"\"\n",
    "    from sage.graphs.linearextensions import LinearExtensions\n",
    "    d = DiGraph()\n",
    "    d.add_vertices(S)\n",
    "    for (b,a) in Delta(S):\n",
    "        assert a in S\n",
    "        assert b in S\n",
    "        if (b,a) in inv:\n",
    "            d.add_edge((b,a))\n",
    "        else:\n",
    "            d.add_edge((a,b))\n",
    "    return d.topological_sort()\n",
    "\n",
    "def from_rook_triple((Sr, Ir, Zr), n):\n",
    "    r\"\"\"\n",
    "    Recovering a rook from its rook triple (Proposition 4.8, page 33)\n",
    "\n",
    "    EXAMPLE::\n",
    "\n",
    "        sage: from_rook_triple(\n",
    "        ....:    (frozenset({1, 2, 4, 5}),\n",
    "        ....:     frozenset({(2, 1), (4, 1), (5, 1), (5, 4)}),\n",
    "        ....:     {1: 0, 2: 3, 4: 2, 5: 2}), 7)\n",
    "        (2, 0, 5, 4, 0, 0, 1)\n",
    "\n",
    "    TESTS::\n",
    "\n",
    "        sage: n = 5\n",
    "        sage: for r in rooks(n):\n",
    "        ....:     assert r == from_rook_triple(rook_triple(r), n)\n",
    "    \"\"\"\n",
    "    res = []\n",
    "    oldZ = n-len(Sr)\n",
    "    for l in from_inversion(Sr, Ir):\n",
    "        assert Zr[l] <= oldZ\n",
    "        res.extend([0]*(oldZ-Zr[l]))\n",
    "        res.append(l)\n",
    "        oldZ = Zr[l]\n",
    "    res.extend([0]*oldZ)\n",
    "    return tuple(res)\n"
   ]
  },
  {
   "cell_type": "code",
   "execution_count": 126,
   "metadata": {},
   "outputs": [
    {
     "data": {
      "text/plain": [
       "(2, 0, 5, 4, 0, 0, 1)"
      ]
     },
     "execution_count": 126,
     "metadata": {},
     "output_type": "execute_result"
    }
   ],
   "source": [
    "from_rook_triple(\n",
    "    (frozenset({1, 2, 4, 5}),\n",
    "     frozenset({(2, 1), (4, 1), (5, 1), (5, 4)}),\n",
    "     {1: 0, 2: 3, 4: 2, 5: 2}), 7)"
   ]
  },
  {
   "cell_type": "code",
   "execution_count": 128,
   "metadata": {},
   "outputs": [],
   "source": [
    "for n in range(7):\n",
    "    for r in rooks(n):\n",
    "        assert r == from_rook_triple(rook_triple(r), n)"
   ]
  },
  {
   "cell_type": "markdown",
   "metadata": {},
   "source": [
    "## Comparing two rooks"
   ]
  },
  {
   "cell_type": "code",
   "execution_count": 131,
   "metadata": {},
   "outputs": [],
   "source": [
    "# %load -s leqI rook0.sage\n",
    "def leqI(r, u):\n",
    "    r\"\"\"\n",
    "    Comparing rooks (Definition \\reff{def-rook-order})\n",
    "\n",
    "    We check for Theorem 4.16, page 35::\n",
    "\n",
    "        sage: n = 4\n",
    "        sage: Mon = Rook0(n)\n",
    "        sage: rl = rook_lattice(n)\n",
    "        sage: for r1 in rooks(n):\n",
    "        ....:     for r2 in rooks(n):\n",
    "        ....:         assert leqI(r1, r2) == rl.le(r1, r2)\n",
    "    \"\"\"\n",
    "    (Su, Iu, Zu) = rook_triple(u)\n",
    "    (Sr, Ir, Zr) = rook_triple(r)\n",
    "    if not Sr.issubset(Su):\n",
    "        return False\n",
    "    for (b, a) in Iu:\n",
    "        if b in Sr and (b, a) not in Ir:\n",
    "            return False\n",
    "    for l in Sr:\n",
    "        if not Zu[l] <= Zr[l]:\n",
    "            return False\n",
    "    return True"
   ]
  },
  {
   "cell_type": "code",
   "execution_count": 132,
   "metadata": {},
   "outputs": [],
   "source": [
    "for n in range(5):\n",
    "    Mon = Rook0(n)\n",
    "    rl = rook_lattice(n)\n",
    "    for r1 in rooks(n):\n",
    "        for r2 in rooks(n):\n",
    "            assert leqI(r1, r2) == rl.le(r1, r2)"
   ]
  },
  {
   "cell_type": "code",
   "execution_count": 142,
   "metadata": {},
   "outputs": [],
   "source": [
    "# %load -s invdict,transitive_closure,max_compatible_set,min_dual_compatible_set,interS2 rook0.sage\n",
    "def invdict(I):\n",
    "    r\"\"\"\n",
    "    Iversion as a dict\n",
    "\n",
    "    EXAMPLES::\n",
    "\n",
    "        sage: invdict(frozenset({(6,5), (4,3), (5,3), (6,3)}))\n",
    "        {4: {3}, 5: {3}, 6: {3, 5}}\n",
    "    \"\"\"\n",
    "    import collections\n",
    "    res = collections.defaultdict(set)\n",
    "    for (b, a) in I:\n",
    "        res[b].add(a)\n",
    "    return dict(res)\n",
    "\n",
    "def transitive_closure(I):\n",
    "    \"\"\"\n",
    "    Trasitive Closure:\n",
    "\n",
    "    EXAMPLES::\n",
    "\n",
    "        sage: transitive_closure(frozenset([(3,2), (2,1)]))\n",
    "        frozenset({(2, 1), (3, 1), (3, 2)})\n",
    "        sage: transitive_closure(frozenset([(4,3),(3,2), (2,1)]))\n",
    "        frozenset({(2, 1), (3, 1), (3, 2), (4, 1), (4, 2), (4, 3)})\n",
    "    \"\"\"\n",
    "    return frozenset([(a,b) for (a,b,_) in\n",
    "                      DiGraph(list(I)).transitive_closure().edges()])\n",
    "\n",
    "def max_compatible_set(S, I):\n",
    "    \"\"\"\n",
    "    Maximal `I`-compatible set (Definition 4.12, page 34)\n",
    "\n",
    "    precondition: S is supposed transitively closed\n",
    "\n",
    "    EXAMPLES::\n",
    "\n",
    "        sage: max_compatible_set(frozenset({1,2,4,5}), frozenset({(4,3), (5,3)}))\n",
    "        frozenset({1, 2})\n",
    "        sage: max_compatible_set(frozenset({1,2,4,5,6}),\n",
    "        ....:     frozenset({(6,5), (4,3), (5,3), (6,3)}))\n",
    "        frozenset({1, 2})\n",
    "    \"\"\"\n",
    "    I = invdict(I)\n",
    "    res = set()\n",
    "    for b in S:\n",
    "        if b not in I or I[b].issubset(S):\n",
    "            res.add(b)\n",
    "    return frozenset(res)\n",
    "\n",
    "def min_dual_compatible_set(S, I, n):\n",
    "    \"\"\"\n",
    "    Minimal `I`-compatible set (Definition 4.21, page 38)\n",
    "\n",
    "    precondition: S is supposed transitively closed\n",
    "\n",
    "    EXAMPLES::\n",
    "\n",
    "        sage: min_dual_compatible_set(frozenset({1,2,4,5}),\n",
    "        ....:     frozenset({(4,3), (5,3)}), 5)\n",
    "        frozenset({1, 2, 3, 4, 5})\n",
    "        sage: min_dual_compatible_set(frozenset({5}),\n",
    "        ....:     frozenset({(6,5), (4,3), (5,3), (6,3)}), 7)\n",
    "        frozenset({5, 7})\n",
    "        sage: min_dual_compatible_set(frozenset({3}),\n",
    "        ....:     frozenset({(6,5), (4,3), (5,3), (6,3)}), 7)\n",
    "        frozenset({3, 7})\n",
    "        sage: min_dual_compatible_set(frozenset({2}),\n",
    "        ....:     frozenset({(6,5), (4,3), (5,3), (6,3)}), 7)\n",
    "        frozenset({2, 3, 4, 5, 6, 7})\n",
    "    \"\"\"\n",
    "    res = set(S)\n",
    "    for a in S:\n",
    "        for b in range(a+1, n+1):\n",
    "            if (b, a) not in I:\n",
    "                res.add(b)\n",
    "    return frozenset(res)\n",
    "\n",
    "def interS2(I0, S):\n",
    "    r\"\"\"\n",
    "    Intersection of an inversion set and a support\n",
    "\n",
    "    EXAMPLES::\n",
    "\n",
    "        sage: interS2(frozenset([(2,1), (4,2), (3,2)]),\n",
    "        ....:         frozenset([3,2]))\n",
    "        frozenset({(3, 2)})\n",
    "        sage: interS2(frozenset([(2,1), (4,2), (3,2)]),\n",
    "        ....:         frozenset([3,2,1]))\n",
    "        frozenset({(2, 1), (3, 2)})\n",
    "    \"\"\"\n",
    "    I = set()\n",
    "    for (b, a) in I0:\n",
    "        if b in S and a in S:\n",
    "            I.add((b,a))\n",
    "    return frozenset(I)\n"
   ]
  },
  {
   "cell_type": "code",
   "execution_count": 143,
   "metadata": {},
   "outputs": [],
   "source": [
    "# %load -s inf rook0.sage\n",
    "def inf(u, v):\n",
    "    \"\"\"\n",
    "    The inf of the rook lattice (Theorem 4.18, page 36)\n",
    "\n",
    "    EXAMPLES::\n",
    "\n",
    "        sage: inf((3,1,0,5,2), (2,1,5,3,4))\n",
    "        (0, 3, 2, 1, 0)\n",
    "\n",
    "        sage: inf((2,4,1,0), (2,1,3,4))\n",
    "        (2, 4, 1, 0)\n",
    "        sage: inf((2,4,1,0), (2,1,4,3))\n",
    "        (0, 2, 1, 0)\n",
    "        sage: inf((2,4,1,0), (3,1,4,2))\n",
    "        (4, 2, 1, 0)\n",
    "\n",
    "    TESTS::\n",
    "\n",
    "        sage: n = 4\n",
    "        sage: Mon = Rook0(n)\n",
    "        sage: rl = rook_lattice(n)\n",
    "        sage: for u in rooks(n):\n",
    "        ....:     for v in rooks(n):\n",
    "        ....:         assert inf(u, v) == rl.meet(u, v)\n",
    "    \"\"\"\n",
    "    n = len(u)\n",
    "    assert n == len(v)\n",
    "    (Su, Iu, Zu) = rook_triple(u)\n",
    "    (Sv, Iv, Zv) = rook_triple(v)\n",
    "    I0 = transitive_closure(Iu | Iv)\n",
    "    S = max_compatible_set(Su & Sv, I0)\n",
    "    I = interS2(I0, S)\n",
    "    Idict = invdict(I)\n",
    "    Z = dict()\n",
    "    for x in S:\n",
    "        Zx = max(Zu[x], Zv[x])\n",
    "        for i in Idict.get(x, []):\n",
    "            Zx = max(Zx, Zu.get(i, 0), Zv.get(i, 0))\n",
    "        Z[x] = Zx\n",
    "    return from_rook_triple((S, I, Z), n)"
   ]
  },
  {
   "cell_type": "code",
   "execution_count": 144,
   "metadata": {},
   "outputs": [
    {
     "data": {
      "text/plain": [
       "(0, 3, 2, 1, 0)"
      ]
     },
     "execution_count": 144,
     "metadata": {},
     "output_type": "execute_result"
    }
   ],
   "source": [
    "inf((3,1,0,5,2), (2,1,5,3,4))"
   ]
  },
  {
   "cell_type": "code",
   "execution_count": 145,
   "metadata": {},
   "outputs": [
    {
     "data": {
      "text/plain": [
       "(2, 4, 1, 0)"
      ]
     },
     "execution_count": 145,
     "metadata": {},
     "output_type": "execute_result"
    }
   ],
   "source": [
    "inf((2,4,1,0), (2,1,3,4))"
   ]
  },
  {
   "cell_type": "code",
   "execution_count": 146,
   "metadata": {},
   "outputs": [
    {
     "data": {
      "text/plain": [
       "(0, 2, 1, 0)"
      ]
     },
     "execution_count": 146,
     "metadata": {},
     "output_type": "execute_result"
    }
   ],
   "source": [
    "inf((2,4,1,0), (2,1,4,3))"
   ]
  },
  {
   "cell_type": "code",
   "execution_count": 147,
   "metadata": {},
   "outputs": [
    {
     "data": {
      "text/plain": [
       "(4, 2, 1, 0)"
      ]
     },
     "execution_count": 147,
     "metadata": {},
     "output_type": "execute_result"
    }
   ],
   "source": [
    "inf((2,4,1,0), (3,1,4,2))"
   ]
  },
  {
   "cell_type": "code",
   "execution_count": 148,
   "metadata": {},
   "outputs": [],
   "source": [
    "n = 4\n",
    "Mon = Rook0(n)\n",
    "rl = rook_lattice(n)\n",
    "for u in rooks(n):\n",
    "    for v in rooks(n):\n",
    "        assert inf(u, v) == rl.meet(u, v)"
   ]
  },
  {
   "cell_type": "code",
   "execution_count": 150,
   "metadata": {},
   "outputs": [],
   "source": [
    "# %load -s inversion_set_bar,sup rook0.sage\n",
    "def inversion_set_bar(Su, Iu):\n",
    "    r\"\"\"\n",
    "    Complement of an inversion set\n",
    "\n",
    "    EXAMPLES::\n",
    "\n",
    "        sage: inversion_set_bar(frozenset({4}),\n",
    "        ....:     frozenset({(6,5), (4,3), (5,3), (6,3)}))\n",
    "        {(4, 1), (4, 2), (4, 3)}\n",
    "    \"\"\"\n",
    "    IBu = set(Delta(Su) - Iu)\n",
    "    for b in Su:\n",
    "        for a in range(1, b):\n",
    "            if a not in Su:\n",
    "                IBu.add((b, a))\n",
    "    return IBu\n",
    "\n",
    "def sup(u, v):\n",
    "    r\"\"\"\n",
    "    The sup of the rook lattice (Theorem 4.22, page 38)\n",
    "\n",
    "    EXAMPLES::\n",
    "\n",
    "        sage: sup((3,1,0,5,2), (2,1,5,3,4))\n",
    "        (1, 2, 3, 4, 5)\n",
    "\n",
    "        sage: sup((2,4,1,0), (2,1,3,4))\n",
    "        (2, 1, 3, 4)\n",
    "        sage: sup((2,4,1,0), (2,1,4,3))\n",
    "        (2, 1, 3, 4)\n",
    "        sage: sup((2,4,1,0), (3,1,4,2))\n",
    "        (3, 1, 2, 4)\n",
    "\n",
    "    TESTS::\n",
    "\n",
    "        sage: n = 4\n",
    "        sage: Mon = Rook0(n)\n",
    "        sage: rl = rook_lattice(n)\n",
    "        sage: for u in rooks(n):\n",
    "        ....:     for v in rooks(n):\n",
    "        ....:         assert sup(u, v) == rl.join(u, v)\n",
    "    \"\"\"\n",
    "    n = len(u)\n",
    "    assert n == len(v)\n",
    "    (Su, Iu, Zu) = rook_triple(u)\n",
    "    IBu = inversion_set_bar(Su, Iu)\n",
    "    (Sv, Iv, Zv) = rook_triple(v)\n",
    "    IBv = inversion_set_bar(Sv, Iv)\n",
    "    I0 = Delta(n) - transitive_closure(IBu | IBv)\n",
    "    S = min_dual_compatible_set(Su | Sv, I0, n)\n",
    "    I = interS2(I0, S)\n",
    "    Idict = invdict(I)\n",
    "    Z = dict()\n",
    "    for x in S:\n",
    "        Zx = min(n - len(S), Zu.get(x, n), Zv.get(x, n))\n",
    "        for i in frozenset(range(x)) - Idict.get(x, set()):\n",
    "            Zx = min(Zx, Zu.get(i, n))\n",
    "            Zx = min(Zx, Zv.get(i, n))\n",
    "            Z[x] = Zx\n",
    "    return from_rook_triple((S, I, Z), n)"
   ]
  },
  {
   "cell_type": "code",
   "execution_count": 151,
   "metadata": {},
   "outputs": [
    {
     "data": {
      "text/plain": [
       "(1, 2, 3, 4, 5)"
      ]
     },
     "execution_count": 151,
     "metadata": {},
     "output_type": "execute_result"
    }
   ],
   "source": [
    "sup((3,1,0,5,2), (2,1,5,3,4))"
   ]
  },
  {
   "cell_type": "code",
   "execution_count": 152,
   "metadata": {},
   "outputs": [
    {
     "data": {
      "text/plain": [
       "(2, 1, 3, 4)"
      ]
     },
     "execution_count": 152,
     "metadata": {},
     "output_type": "execute_result"
    }
   ],
   "source": [
    "sup((2,4,1,0), (2,1,3,4))"
   ]
  },
  {
   "cell_type": "code",
   "execution_count": 153,
   "metadata": {},
   "outputs": [
    {
     "data": {
      "text/plain": [
       "(2, 1, 3, 4)"
      ]
     },
     "execution_count": 153,
     "metadata": {},
     "output_type": "execute_result"
    }
   ],
   "source": [
    "sup((2,4,1,0), (2,1,4,3))"
   ]
  },
  {
   "cell_type": "code",
   "execution_count": 154,
   "metadata": {},
   "outputs": [
    {
     "data": {
      "text/plain": [
       "(3, 1, 2, 4)"
      ]
     },
     "execution_count": 154,
     "metadata": {},
     "output_type": "execute_result"
    }
   ],
   "source": [
    "sup((2,4,1,0), (3,1,4,2))"
   ]
  },
  {
   "cell_type": "code",
   "execution_count": 155,
   "metadata": {},
   "outputs": [],
   "source": [
    "n = 4\n",
    "Mon = Rook0(n)\n",
    "rl = rook_lattice(n)\n",
    "for u in rooks(n):\n",
    "    for v in rooks(n):\n",
    "        assert sup(u, v) == rl.join(u, v)"
   ]
  },
  {
   "cell_type": "code",
   "execution_count": null,
   "metadata": {},
   "outputs": [],
   "source": []
  }
 ],
 "metadata": {
  "kernelspec": {
   "display_name": "SageMath 8.2.beta6",
   "language": "",
   "name": "sagemath"
  },
  "language_info": {
   "codemirror_mode": {
    "name": "ipython",
    "version": 2
   },
   "file_extension": ".py",
   "mimetype": "text/x-python",
   "name": "python",
   "nbconvert_exporter": "python",
   "pygments_lexer": "ipython2",
   "version": "2.7.14"
  }
 },
 "nbformat": 4,
 "nbformat_minor": 2
}
